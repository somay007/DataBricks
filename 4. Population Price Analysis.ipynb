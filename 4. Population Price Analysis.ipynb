{
 "cells": [
  {
   "cell_type": "code",
   "execution_count": 0,
   "metadata": {
    "application/vnd.databricks.v1+cell": {
     "cellMetadata": {
      "byteLimit": 2048000,
      "rowLimit": 10000
     },
     "inputWidgets": {},
     "nuid": "6c26f163-f48a-45c2-b2a5-b941a2992d8e",
     "showTitle": false,
     "tableResultSettingsMap": {},
     "title": ""
    }
   },
   "outputs": [
    {
     "output_type": "stream",
     "name": "stdout",
     "output_type": "stream",
     "text": [
      "root\n |-- 2014 rank: integer (nullable = true)\n |-- City: string (nullable = true)\n |-- State: string (nullable = true)\n |-- State Code: string (nullable = true)\n |-- 2014 Population estimate: integer (nullable = true)\n |-- 2015 median sales price: double (nullable = true)\n\n+---------+-------------+----------+----------+------------------------+-----------------------+\n|2014 rank|         City|     State|State Code|2014 Population estimate|2015 median sales price|\n+---------+-------------+----------+----------+------------------------+-----------------------+\n|      101|   Birmingham|   Alabama|        AL|                  212247|                  162.9|\n|      125|   Huntsville|   Alabama|        AL|                  188226|                  157.7|\n|      122|       Mobile|   Alabama|        AL|                  194675|                  122.5|\n|      114|   Montgomery|   Alabama|        AL|                  200481|                  129.0|\n|       64|Anchorage[19]|    Alaska|        AK|                  301010|                   null|\n|       78|     Chandler|   Arizona|        AZ|                  254276|                   null|\n|       86|  Gilbert[20]|   Arizona|        AZ|                  239277|                   null|\n|       88|     Glendale|   Arizona|        AZ|                  237517|                   null|\n|       38|         Mesa|   Arizona|        AZ|                  464704|                   null|\n|      148|       Peoria|   Arizona|        AZ|                  166934|                   null|\n|        6|      Phoenix|   Arizona|        AZ|                 1537058|                  206.1|\n|       95|   Scottsdale|   Arizona|        AZ|                  230512|                   null|\n|      215|     Surprise|   Arizona|        AZ|                  126275|                   null|\n|      142|        Tempe|   Arizona|        AZ|                  172816|                   null|\n|       33|       Tucson|   Arizona|        AZ|                  527972|                  178.1|\n|      119|  Little Rock|  Arkansas|        AR|                  197706|                  131.8|\n|       56|      Anaheim|California|        CA|                  346997|                  685.7|\n|      261|      Antioch|California|        CA|                  108930|                   null|\n|       52|  Bakersfield|California|        CA|                  368759|                   null|\n|      227|     Berkeley|California|        CA|                  118853|                   null|\n+---------+-------------+----------+----------+------------------------+-----------------------+\nonly showing top 20 rows\n\n"
     ]
    }
   ],
   "source": [
    "# Load the dataset from DBFS (Databricks Filesystem)\n",
    "file_path = \"/databricks-datasets/samples/population-vs-price/data_geo.csv\"\n",
    "df = spark.read.csv(file_path, header=True, inferSchema=True)\n",
    "df.printSchema()\n",
    "df.show()"
   ]
  },
  {
   "cell_type": "code",
   "execution_count": 0,
   "metadata": {
    "application/vnd.databricks.v1+cell": {
     "cellMetadata": {
      "byteLimit": 2048000,
      "rowLimit": 10000
     },
     "inputWidgets": {},
     "nuid": "54cf831e-86f5-44ec-8081-386be5342dd7",
     "showTitle": false,
     "tableResultSettingsMap": {},
     "title": ""
    }
   },
   "outputs": [
    {
     "output_type": "stream",
     "name": "stdout",
     "output_type": "stream",
     "text": [
      "+-------------+-------+----------+------------------------+-----------------------+\n|         City|  State|State Code|2014 Population estimate|2015 median sales price|\n+-------------+-------+----------+------------------------+-----------------------+\n|   Birmingham|Alabama|        AL|                  212247|                  162.9|\n|   Huntsville|Alabama|        AL|                  188226|                  157.7|\n|       Mobile|Alabama|        AL|                  194675|                  122.5|\n|   Montgomery|Alabama|        AL|                  200481|                  129.0|\n|Anchorage[19]| Alaska|        AK|                  301010|                   null|\n+-------------+-------+----------+------------------------+-----------------------+\nonly showing top 5 rows\n\n"
     ]
    }
   ],
   "source": [
    "# Select relevant columns for analysis\n",
    "df_selected = df.select(\n",
    "    \"City\", \"State\", \"State Code\", \n",
    "    \"2014 Population estimate\", \"2015 median sales price\"\n",
    ")\n",
    "df_selected.show(5)"
   ]
  },
  {
   "cell_type": "markdown",
   "metadata": {
    "application/vnd.databricks.v1+cell": {
     "cellMetadata": {},
     "inputWidgets": {},
     "nuid": "98d0fa09-a7bf-40c8-b47a-d3f7fef8f938",
     "showTitle": false,
     "tableResultSettingsMap": {},
     "title": ""
    }
   },
   "source": [
    "# Scenario 1 : Top 10 most popular cities"
   ]
  },
  {
   "cell_type": "code",
   "execution_count": 0,
   "metadata": {
    "application/vnd.databricks.v1+cell": {
     "cellMetadata": {
      "byteLimit": 2048000,
      "rowLimit": 10000
     },
     "inputWidgets": {},
     "nuid": "1548d9b2-b10c-4ea2-971d-e8841c40a3c1",
     "showTitle": false,
     "tableResultSettingsMap": {},
     "title": ""
    }
   },
   "outputs": [
    {
     "output_type": "display_data",
     "data": {
      "text/html": [
       "<style scoped>\n",
       "  .table-result-container {\n",
       "    max-height: 300px;\n",
       "    overflow: auto;\n",
       "  }\n",
       "  table, th, td {\n",
       "    border: 1px solid black;\n",
       "    border-collapse: collapse;\n",
       "  }\n",
       "  th, td {\n",
       "    padding: 5px;\n",
       "  }\n",
       "  th {\n",
       "    text-align: left;\n",
       "  }\n",
       "</style><div class='table-result-container'><table class='table-result'><thead style='background-color: white'><tr><th>city</th><th>2014 population estimate</th></tr></thead><tbody><tr><td>New York[6]</td><td>8491079</td></tr><tr><td>Los Angeles</td><td>3928864</td></tr><tr><td>Chicago</td><td>2722389</td></tr><tr><td>Houston[7]</td><td>2239558</td></tr><tr><td>Philadelphia[8]</td><td>1560297</td></tr><tr><td>Phoenix</td><td>1537058</td></tr><tr><td>San Antonio</td><td>1436697</td></tr><tr><td>San Diego</td><td>1381069</td></tr><tr><td>Dallas</td><td>1281047</td></tr><tr><td>San Jose</td><td>1015785</td></tr></tbody></table></div>"
      ]
     },
     "metadata": {
      "application/vnd.databricks.v1+output": {
       "addedWidgets": {},
       "aggData": [],
       "aggError": "",
       "aggOverflow": false,
       "aggSchema": [],
       "aggSeriesLimitReached": false,
       "aggType": "",
       "arguments": {},
       "columnCustomDisplayInfos": {},
       "data": [
        [
         "New York[6]",
         8491079
        ],
        [
         "Los Angeles",
         3928864
        ],
        [
         "Chicago",
         2722389
        ],
        [
         "Houston[7]",
         2239558
        ],
        [
         "Philadelphia[8]",
         1560297
        ],
        [
         "Phoenix",
         1537058
        ],
        [
         "San Antonio",
         1436697
        ],
        [
         "San Diego",
         1381069
        ],
        [
         "Dallas",
         1281047
        ],
        [
         "San Jose",
         1015785
        ]
       ],
       "datasetInfos": [],
       "dbfsResultPath": null,
       "isJsonSchema": true,
       "metadata": {},
       "overflow": false,
       "plotOptions": {
        "customPlotOptions": {},
        "displayType": "table",
        "pivotAggregation": null,
        "pivotColumns": null,
        "xColumns": null,
        "yColumns": null
       },
       "removedWidgets": [],
       "schema": [
        {
         "metadata": "{}",
         "name": "city",
         "type": "\"string\""
        },
        {
         "metadata": "{}",
         "name": "2014 population estimate",
         "type": "\"integer\""
        }
       ],
       "type": "table"
      }
     },
     "output_type": "display_data"
    }
   ],
   "source": [
    "#for visual\n",
    "display(df.select('city','2014 population estimate').orderBy('2014 population estimate',ascending = False).limit(10))\n",
    "\n",
    "# df.selected.orderBy(df_selected[\"2014 Population estimate\"])"
   ]
  },
  {
   "cell_type": "markdown",
   "metadata": {
    "application/vnd.databricks.v1+cell": {
     "cellMetadata": {},
     "inputWidgets": {},
     "nuid": "aac784dc-94a6-4bfb-85f4-aec50c930ede",
     "showTitle": false,
     "tableResultSettingsMap": {},
     "title": ""
    }
   },
   "source": [
    "# Scenario 2: Average median sales price by State"
   ]
  },
  {
   "cell_type": "code",
   "execution_count": 0,
   "metadata": {
    "application/vnd.databricks.v1+cell": {
     "cellMetadata": {
      "byteLimit": 2048000,
      "rowLimit": 10000
     },
     "inputWidgets": {},
     "nuid": "9771be4d-cd1a-401b-a746-6b54b3ce5288",
     "showTitle": false,
     "tableResultSettingsMap": {},
     "title": ""
    }
   },
   "outputs": [
    {
     "output_type": "display_data",
     "data": {
      "text/html": [
       "<style scoped>\n",
       "  .table-result-container {\n",
       "    max-height: 300px;\n",
       "    overflow: auto;\n",
       "  }\n",
       "  table, th, td {\n",
       "    border: 1px solid black;\n",
       "    border-collapse: collapse;\n",
       "  }\n",
       "  th, td {\n",
       "    padding: 5px;\n",
       "  }\n",
       "  th {\n",
       "    text-align: left;\n",
       "  }\n",
       "</style><div class='table-result-container'><table class='table-result'><thead style='background-color: white'><tr><th>State</th><th>Average Median Sales</th></tr></thead><tbody><tr><td>Hawai'i</td><td>699.3</td></tr><tr><td>California</td><td>547.9714285714286</td></tr><tr><td>District of Columbia</td><td>367.8</td></tr><tr><td>New Jersey</td><td>350.8</td></tr><tr><td>Colorado</td><td>333.46666666666664</td></tr><tr><td>Washington</td><td>266.29999999999995</td></tr><tr><td>Massachusetts</td><td>261.8</td></tr><tr><td>Connecticut</td><td>250.13333333333333</td></tr><tr><td>Utah</td><td>243.3</td></tr><tr><td>New Hampshire</td><td>237.4</td></tr><tr><td>Nevada</td><td>237.3</td></tr><tr><td>Rhode Island</td><td>233.3</td></tr><tr><td>Oregon</td><td>231.53333333333333</td></tr><tr><td>Maryland</td><td>223.1</td></tr><tr><td>Wisconsin</td><td>210.8</td></tr><tr><td>Minnesota</td><td>209.4</td></tr><tr><td>Virginia</td><td>201.25</td></tr><tr><td>Arizona</td><td>192.1</td></tr><tr><td>New York</td><td>185.775</td></tr><tr><td>Pennsylvania</td><td>183.8</td></tr><tr><td>North Dakota</td><td>180.0</td></tr><tr><td>Florida</td><td>178.77777777777777</td></tr><tr><td>Idaho</td><td>178.7</td></tr><tr><td>North Carolina</td><td>176.05714285714288</td></tr><tr><td>Texas</td><td>173.4777777777778</td></tr><tr><td>New Mexico</td><td>172.2</td></tr><tr><td>Louisiana</td><td>164.39999999999998</td></tr><tr><td>South Dakota</td><td>159.5</td></tr><tr><td>Georgia</td><td>158.0</td></tr><tr><td>Mississippi</td><td>154.1</td></tr><tr><td>Tennessee</td><td>152.825</td></tr><tr><td>Nebraska</td><td>149.14999999999998</td></tr><tr><td>Oklahoma</td><td>145.1</td></tr><tr><td>Alabama</td><td>143.025</td></tr><tr><td>Kentucky</td><td>141.14999999999998</td></tr><tr><td>Missouri</td><td>134.75</td></tr><tr><td>Iowa</td><td>133.15</td></tr><tr><td>Arkansas</td><td>131.8</td></tr><tr><td>Illinois</td><td>122.87499999999999</td></tr><tr><td>Indiana</td><td>122.75</td></tr><tr><td>Kansas</td><td>115.65</td></tr><tr><td>Michigan</td><td>114.6</td></tr><tr><td>Ohio</td><td>112.86666666666667</td></tr><tr><td>Alaska</td><td>null</td></tr><tr><td>Montana</td><td>null</td></tr><tr><td>South Carolina</td><td>null</td></tr></tbody></table></div>"
      ]
     },
     "metadata": {
      "application/vnd.databricks.v1+output": {
       "addedWidgets": {},
       "aggData": [],
       "aggError": "",
       "aggOverflow": false,
       "aggSchema": [],
       "aggSeriesLimitReached": false,
       "aggType": "",
       "arguments": {},
       "columnCustomDisplayInfos": {},
       "data": [
        [
         "Hawai'i",
         699.3
        ],
        [
         "California",
         547.9714285714286
        ],
        [
         "District of Columbia",
         367.8
        ],
        [
         "New Jersey",
         350.8
        ],
        [
         "Colorado",
         333.46666666666664
        ],
        [
         "Washington",
         266.29999999999995
        ],
        [
         "Massachusetts",
         261.8
        ],
        [
         "Connecticut",
         250.13333333333333
        ],
        [
         "Utah",
         243.3
        ],
        [
         "New Hampshire",
         237.4
        ],
        [
         "Nevada",
         237.3
        ],
        [
         "Rhode Island",
         233.3
        ],
        [
         "Oregon",
         231.53333333333333
        ],
        [
         "Maryland",
         223.1
        ],
        [
         "Wisconsin",
         210.8
        ],
        [
         "Minnesota",
         209.4
        ],
        [
         "Virginia",
         201.25
        ],
        [
         "Arizona",
         192.1
        ],
        [
         "New York",
         185.775
        ],
        [
         "Pennsylvania",
         183.8
        ],
        [
         "North Dakota",
         180.0
        ],
        [
         "Florida",
         178.77777777777777
        ],
        [
         "Idaho",
         178.7
        ],
        [
         "North Carolina",
         176.05714285714288
        ],
        [
         "Texas",
         173.4777777777778
        ],
        [
         "New Mexico",
         172.2
        ],
        [
         "Louisiana",
         164.39999999999998
        ],
        [
         "South Dakota",
         159.5
        ],
        [
         "Georgia",
         158.0
        ],
        [
         "Mississippi",
         154.1
        ],
        [
         "Tennessee",
         152.825
        ],
        [
         "Nebraska",
         149.14999999999998
        ],
        [
         "Oklahoma",
         145.1
        ],
        [
         "Alabama",
         143.025
        ],
        [
         "Kentucky",
         141.14999999999998
        ],
        [
         "Missouri",
         134.75
        ],
        [
         "Iowa",
         133.15
        ],
        [
         "Arkansas",
         131.8
        ],
        [
         "Illinois",
         122.87499999999999
        ],
        [
         "Indiana",
         122.75
        ],
        [
         "Kansas",
         115.65
        ],
        [
         "Michigan",
         114.6
        ],
        [
         "Ohio",
         112.86666666666667
        ],
        [
         "Alaska",
         null
        ],
        [
         "Montana",
         null
        ],
        [
         "South Carolina",
         null
        ]
       ],
       "datasetInfos": [],
       "dbfsResultPath": null,
       "isJsonSchema": true,
       "metadata": {},
       "overflow": false,
       "plotOptions": {
        "customPlotOptions": {},
        "displayType": "table",
        "pivotAggregation": null,
        "pivotColumns": null,
        "xColumns": null,
        "yColumns": null
       },
       "removedWidgets": [],
       "schema": [
        {
         "metadata": "{}",
         "name": "State",
         "type": "\"string\""
        },
        {
         "metadata": "{}",
         "name": "Average Median Sales",
         "type": "\"double\""
        }
       ],
       "type": "table"
      }
     },
     "output_type": "display_data"
    }
   ],
   "source": [
    "from pyspark.sql.functions import *\n",
    "display(df_selected.groupBy('State').agg(avg('2015 median sales price').alias('Average Median Sales')).orderBy(desc('Average Median Sales')))"
   ]
  },
  {
   "cell_type": "markdown",
   "metadata": {
    "application/vnd.databricks.v1+cell": {
     "cellMetadata": {},
     "inputWidgets": {},
     "nuid": "6db36d76-faf7-434f-9bb5-89ca57792d94",
     "showTitle": false,
     "tableResultSettingsMap": {},
     "title": ""
    }
   },
   "source": [
    "# Scenerio 3:Filter Cities with population > 1 million"
   ]
  },
  {
   "cell_type": "code",
   "execution_count": 0,
   "metadata": {
    "application/vnd.databricks.v1+cell": {
     "cellMetadata": {
      "byteLimit": 2048000,
      "rowLimit": 10000
     },
     "inputWidgets": {},
     "nuid": "71bc7bf8-a44b-49a5-9918-222cfb77ff78",
     "showTitle": false,
     "tableResultSettingsMap": {},
     "title": ""
    }
   },
   "outputs": [
    {
     "output_type": "display_data",
     "data": {
      "text/html": [
       "<style scoped>\n",
       "  .table-result-container {\n",
       "    max-height: 300px;\n",
       "    overflow: auto;\n",
       "  }\n",
       "  table, th, td {\n",
       "    border: 1px solid black;\n",
       "    border-collapse: collapse;\n",
       "  }\n",
       "  th, td {\n",
       "    padding: 5px;\n",
       "  }\n",
       "  th {\n",
       "    text-align: left;\n",
       "  }\n",
       "</style><div class='table-result-container'><table class='table-result'><thead style='background-color: white'><tr><th>City</th><th>Population</th></tr></thead><tbody><tr><td>New York[6]</td><td>8491079</td></tr><tr><td>Los Angeles</td><td>3928864</td></tr><tr><td>Chicago</td><td>2722389</td></tr><tr><td>Houston[7]</td><td>2239558</td></tr><tr><td>Philadelphia[8]</td><td>1560297</td></tr><tr><td>Phoenix</td><td>1537058</td></tr><tr><td>San Antonio</td><td>1436697</td></tr><tr><td>San Diego</td><td>1381069</td></tr><tr><td>Dallas</td><td>1281047</td></tr><tr><td>San Jose</td><td>1015785</td></tr></tbody></table></div>"
      ]
     },
     "metadata": {
      "application/vnd.databricks.v1+output": {
       "addedWidgets": {},
       "aggData": [],
       "aggError": "",
       "aggOverflow": false,
       "aggSchema": [],
       "aggSeriesLimitReached": false,
       "aggType": "",
       "arguments": {},
       "columnCustomDisplayInfos": {},
       "data": [
        [
         "New York[6]",
         8491079
        ],
        [
         "Los Angeles",
         3928864
        ],
        [
         "Chicago",
         2722389
        ],
        [
         "Houston[7]",
         2239558
        ],
        [
         "Philadelphia[8]",
         1560297
        ],
        [
         "Phoenix",
         1537058
        ],
        [
         "San Antonio",
         1436697
        ],
        [
         "San Diego",
         1381069
        ],
        [
         "Dallas",
         1281047
        ],
        [
         "San Jose",
         1015785
        ]
       ],
       "datasetInfos": [],
       "dbfsResultPath": null,
       "isJsonSchema": true,
       "metadata": {},
       "overflow": false,
       "plotOptions": {
        "customPlotOptions": {},
        "displayType": "table",
        "pivotAggregation": null,
        "pivotColumns": null,
        "xColumns": null,
        "yColumns": null
       },
       "removedWidgets": [],
       "schema": [
        {
         "metadata": "{}",
         "name": "City",
         "type": "\"string\""
        },
        {
         "metadata": "{}",
         "name": "Population",
         "type": "\"long\""
        }
       ],
       "type": "table"
      }
     },
     "output_type": "display_data"
    },
    {
     "output_type": "display_data",
     "data": {
      "text/plain": [
       "Databricks visualization. Run in Databricks to view."
      ]
     },
     "metadata": {
      "application/vnd.databricks.v1.subcommand+json": {
       "baseErrorDetails": null,
       "bindings": {},
       "collapsed": false,
       "command": "%python\n__backend_agg_display_orig = display\n__backend_agg_dfs = []\ndef __backend_agg_display_new(df):\n    __backend_agg_df_modules = [\"pandas.core.frame\", \"databricks.koalas.frame\", \"pyspark.sql.dataframe\", \"pyspark.pandas.frame\", \"pyspark.sql.connect.dataframe\"]\n    if (type(df).__module__ in __backend_agg_df_modules and type(df).__name__ == 'DataFrame') or isinstance(df, list):\n        __backend_agg_dfs.append(df)\n\ndisplay = __backend_agg_display_new\n\ndef __backend_agg_user_code_fn():\n    import base64\n    exec(base64.standard_b64decode(\"ZGlzcGxheShkZl9zZWxlY3RlZC5ncm91cEJ5KCdDaXR5JykuYWdnKHN1bSgnMjAxNCBQb3B1bGF0aW9uIGVzdGltYXRlJykuYWxpYXMoJ1BvcHVsYXRpb24nKSkuZmlsdGVyKGNvbCgnUG9wdWxhdGlvbicpPjEwMDAwMDApLm9yZGVyQnkoZGVzYygnUG9wdWxhdGlvbicpKSkK\").decode())\n\ntry:\n    # run user code\n    __backend_agg_user_code_fn()\n\n    #reset display function\n    display = __backend_agg_display_orig\n\n    if len(__backend_agg_dfs) > 0:\n        # create a temp view\n        if type(__backend_agg_dfs[0]).__module__ == \"databricks.koalas.frame\":\n            # koalas dataframe\n            __backend_agg_dfs[0].to_spark().createOrReplaceTempView(\"DatabricksViewe6848b7\")\n        elif type(__backend_agg_dfs[0]).__module__ == \"pandas.core.frame\" or isinstance(__backend_agg_dfs[0], list):\n            # pandas dataframe\n            spark.createDataFrame(__backend_agg_dfs[0]).createOrReplaceTempView(\"DatabricksViewe6848b7\")\n        else:\n            __backend_agg_dfs[0].createOrReplaceTempView(\"DatabricksViewe6848b7\")\n        #run backend agg\n        display(spark.sql(\"\"\"WITH q AS (select * from DatabricksViewe6848b7) SELECT `City`,SUM(`Population`) `column_9f50e12d240` FROM q GROUP BY `City`\"\"\"))\n    else:\n        displayHTML(\"dataframe no longer exists. If you're using dataframe.display(), use display(dataframe) instead.\")\n\n\nfinally:\n    spark.sql(\"drop view if exists DatabricksViewe6848b7\")\n    display = __backend_agg_display_orig\n    del __backend_agg_display_new\n    del __backend_agg_display_orig\n    del __backend_agg_dfs\n    del __backend_agg_user_code_fn\n\n",
       "commandTitle": "Visualization 1",
       "commandType": "auto",
       "commandVersion": 0,
       "commentThread": [],
       "commentsVisible": false,
       "contentSha256Hex": null,
       "customPlotOptions": {
        "redashChart": [
         {
          "key": "type",
          "value": "CHART"
         },
         {
          "key": "options",
          "value": {
           "alignYAxesAtZero": true,
           "coefficient": 1,
           "columnConfigurationMap": {
            "x": {
             "column": "City",
             "id": "column_9f50e12d239"
            },
            "y": [
             {
              "column": "Population",
              "id": "column_9f50e12d240",
              "transform": "SUM"
             }
            ]
           },
           "dateTimeFormat": "DD/MM/YYYY HH:mm",
           "direction": {
            "type": "counterclockwise"
           },
           "error_y": {
            "type": "data",
            "visible": true
           },
           "globalSeriesType": "column",
           "legend": {
            "traceorder": "normal"
           },
           "missingValuesAsZero": true,
           "numberFormat": "0,0.[00000]",
           "percentFormat": "0[.]00%",
           "series": {
            "error_y": {
             "type": "data",
             "visible": true
            },
            "stacking": null
           },
           "seriesOptions": {
            "column_9f50e12d240": {
             "name": "Population",
             "yAxis": 0
            }
           },
           "showDataLabels": false,
           "sizemode": "diameter",
           "sortX": true,
           "sortY": true,
           "swappedAxes": true,
           "textFormat": "",
           "useAggregationsUi": true,
           "valuesOptions": {},
           "version": 2,
           "xAxis": {
            "labels": {
             "enabled": true
            },
            "type": "-"
           },
           "yAxis": [
            {
             "type": "-"
            },
            {
             "opposite": true,
             "type": "-"
            }
           ]
          }
         }
        ]
       },
       "datasetPreviewNameToCmdIdMap": {},
       "diffDeletes": [],
       "diffInserts": [],
       "displayType": "redashChart",
       "error": null,
       "errorDetails": null,
       "errorSummary": null,
       "errorTraceType": null,
       "finishTime": 0,
       "globalVars": {},
       "guid": "",
       "height": "auto",
       "hideCommandCode": false,
       "hideCommandResult": false,
       "iPythonMetadata": null,
       "inputWidgets": {},
       "isLockedInExamMode": false,
       "latestUser": "a user",
       "latestUserId": null,
       "listResultMetadata": null,
       "metadata": {},
       "nuid": "152c85fb-f39a-4c98-8216-b54c60efccaf",
       "origId": 0,
       "parentHierarchy": [],
       "pivotAggregation": null,
       "pivotColumns": null,
       "position": 6.0,
       "resultDbfsErrorMessage": null,
       "resultDbfsStatus": "INLINED_IN_TREE",
       "results": null,
       "showCommandTitle": false,
       "startTime": 0,
       "state": "input",
       "streamStates": {},
       "subcommandOptions": {
        "queryPlan": {
         "groups": [
          {
           "column": "City",
           "type": "column"
          }
         ],
         "selects": [
          {
           "column": "City",
           "type": "column"
          },
          {
           "alias": "column_9f50e12d240",
           "args": [
            {
             "column": "Population",
             "type": "column"
            }
           ],
           "function": "SUM",
           "type": "function"
          }
         ]
        }
       },
       "submitTime": 0,
       "subtype": "tableResultSubCmd.visualization",
       "tableResultIndex": 0,
       "tableResultSettingsMap": {},
       "useConsistentColors": false,
       "version": "CommandV1",
       "width": "auto",
       "workflows": [],
       "xColumns": null,
       "yColumns": null
      }
     },
     "output_type": "display_data"
    }
   ],
   "source": [
    "display(df_selected.groupBy('City').agg(sum('2014 Population estimate').alias('Population')).filter(col('Population')>1000000).orderBy(desc('Population')))\n"
   ]
  },
  {
   "cell_type": "markdown",
   "metadata": {
    "application/vnd.databricks.v1+cell": {
     "cellMetadata": {},
     "inputWidgets": {},
     "nuid": "2c1c7d61-569c-4a35-ab36-d1aa5c72c14c",
     "showTitle": false,
     "tableResultSettingsMap": {},
     "title": ""
    }
   },
   "source": [
    "# Scenerio 4: Identify cities with missing or zero price values"
   ]
  },
  {
   "cell_type": "code",
   "execution_count": 0,
   "metadata": {
    "application/vnd.databricks.v1+cell": {
     "cellMetadata": {
      "byteLimit": 2048000,
      "rowLimit": 10000
     },
     "inputWidgets": {},
     "nuid": "0aff293a-543a-43d5-a870-57a52c73be48",
     "showTitle": false,
     "tableResultSettingsMap": {},
     "title": ""
    }
   },
   "outputs": [
    {
     "output_type": "stream",
     "name": "stdout",
     "output_type": "stream",
     "text": [
      "+-------------+----------+----------+------------------------+-----------------------+\n|         City|     State|State Code|2014 Population estimate|2015 median sales price|\n+-------------+----------+----------+------------------------+-----------------------+\n|Anchorage[19]|    Alaska|        AK|                  301010|                   null|\n|     Chandler|   Arizona|        AZ|                  254276|                   null|\n|  Gilbert[20]|   Arizona|        AZ|                  239277|                   null|\n|     Glendale|   Arizona|        AZ|                  237517|                   null|\n|         Mesa|   Arizona|        AZ|                  464704|                   null|\n|       Peoria|   Arizona|        AZ|                  166934|                   null|\n|   Scottsdale|   Arizona|        AZ|                  230512|                   null|\n|     Surprise|   Arizona|        AZ|                  126275|                   null|\n|        Tempe|   Arizona|        AZ|                  172816|                   null|\n|      Antioch|California|        CA|                  108930|                   null|\n|  Bakersfield|California|        CA|                  368759|                   null|\n|     Berkeley|California|        CA|                  118853|                   null|\n|      Burbank|California|        CA|                  105368|                   null|\n|     Carlsbad|California|        CA|                  112299|                   null|\n|  Chula Vista|California|        CA|                  260988|                   null|\n|       Clovis|California|        CA|                  102189|                   null|\n|      Concord|California|        CA|                  127522|                   null|\n|       Corona|California|        CA|                  161486|                   null|\n|   Costa Mesa|California|        CA|                  112784|                   null|\n|    Daly City|California|        CA|                  106094|                   null|\n+-------------+----------+----------+------------------------+-----------------------+\nonly showing top 20 rows\n\n"
     ]
    }
   ],
   "source": [
    "df_selected.filter((df_selected['2015 median sales price'].isNull())| (df_selected['2015 median sales price']==0)).show()"
   ]
  }
 ],
 "metadata": {
  "application/vnd.databricks.v1+notebook": {
   "computePreferences": null,
   "dashboards": [],
   "environmentMetadata": {
    "base_environment": "",
    "environment_version": "1"
   },
   "inputWidgetPreferences": null,
   "language": "python",
   "notebookMetadata": {
    "pythonIndentUnit": 4
   },
   "notebookName": "4. Population Price Analysis",
   "widgets": {}
  }
 },
 "nbformat": 4,
 "nbformat_minor": 0
}