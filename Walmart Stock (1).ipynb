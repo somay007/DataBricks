{
 "cells": [
  {
   "cell_type": "markdown",
   "metadata": {
    "application/vnd.databricks.v1+cell": {
     "cellMetadata": {},
     "inputWidgets": {},
     "nuid": "d5f29c44-7797-419b-941b-d1e9cbd5db1e",
     "showTitle": false,
     "tableResultSettingsMap": {},
     "title": ""
    }
   },
   "source": [
    "# Spark DataFrames Project Exercise "
   ]
  },
  {
   "cell_type": "markdown",
   "metadata": {
    "application/vnd.databricks.v1+cell": {
     "cellMetadata": {},
     "inputWidgets": {},
     "nuid": "bcb178db-d80c-4f51-b14f-c23c0699fa39",
     "showTitle": false,
     "tableResultSettingsMap": {},
     "title": ""
    }
   },
   "source": [
    "Let's get some quick practice with your new Spark DataFrame skills, you will be asked some basic questions about some stock market data, in this case Walmart Stock from the years 2012-2017. This exercise will just ask a bunch of questions, unlike the future machine learning exercises, which will be a little looser and be in the form of \"Consulting Projects\", but more on that later!\n",
    "\n",
    "For now, just answer the questions and complete the tasks below."
   ]
  },
  {
   "cell_type": "markdown",
   "metadata": {
    "application/vnd.databricks.v1+cell": {
     "cellMetadata": {},
     "inputWidgets": {},
     "nuid": "bfbfd8d8-9e47-4a1d-894c-5c9615721a66",
     "showTitle": false,
     "tableResultSettingsMap": {},
     "title": ""
    }
   },
   "source": [
    "#### Use the walmart_stock.csv file to Answer and complete the  tasks below!"
   ]
  },
  {
   "cell_type": "markdown",
   "metadata": {
    "application/vnd.databricks.v1+cell": {
     "cellMetadata": {},
     "inputWidgets": {},
     "nuid": "5d657628-6171-4608-a893-89809b467036",
     "showTitle": false,
     "tableResultSettingsMap": {},
     "title": ""
    }
   },
   "source": [
    "#### Start a simple Spark Session"
   ]
  },
  {
   "cell_type": "code",
   "execution_count": 0,
   "metadata": {
    "application/vnd.databricks.v1+cell": {
     "cellMetadata": {
      "byteLimit": 2048000,
      "rowLimit": 10000
     },
     "inputWidgets": {},
     "nuid": "6128ac0c-182d-446a-9682-af8459346794",
     "showTitle": false,
     "tableResultSettingsMap": {},
     "title": ""
    },
    "collapsed": true
   },
   "outputs": [],
   "source": [
    "from pyspark.sql import SparkSession\n",
    "\n",
    "spark = SparkSession.builder.appName(\"WalMart Data Engineering\").getOrCreate()\n"
   ]
  },
  {
   "cell_type": "markdown",
   "metadata": {
    "application/vnd.databricks.v1+cell": {
     "cellMetadata": {},
     "inputWidgets": {},
     "nuid": "aecfe074-3aa6-4039-b647-0f8c5a621fec",
     "showTitle": false,
     "tableResultSettingsMap": {},
     "title": ""
    }
   },
   "source": [
    "#### Load the Walmart Stock CSV File, have Spark infer the data types."
   ]
  },
  {
   "cell_type": "code",
   "execution_count": 0,
   "metadata": {
    "application/vnd.databricks.v1+cell": {
     "cellMetadata": {
      "byteLimit": 2048000,
      "rowLimit": 10000
     },
     "inputWidgets": {},
     "nuid": "6001430b-4ee3-4ecb-84bf-b8f55d2cd001",
     "showTitle": false,
     "tableResultSettingsMap": {},
     "title": ""
    },
    "collapsed": true
   },
   "outputs": [],
   "source": [
    "file_path = '/FileStore/tables/Walmart_stock.csv'\n",
    "stocks = spark.read.csv(file_path, header=True, inferSchema=True)"
   ]
  },
  {
   "cell_type": "code",
   "execution_count": 0,
   "metadata": {
    "application/vnd.databricks.v1+cell": {
     "cellMetadata": {
      "byteLimit": 2048000,
      "rowLimit": 10000
     },
     "inputWidgets": {},
     "nuid": "e5629259-4b2b-4e8b-a765-ef801915f019",
     "showTitle": false,
     "tableResultSettingsMap": {},
     "title": ""
    }
   },
   "outputs": [],
   "source": [
    "from pyspark.sql.functions import *"
   ]
  },
  {
   "cell_type": "markdown",
   "metadata": {
    "application/vnd.databricks.v1+cell": {
     "cellMetadata": {},
     "inputWidgets": {},
     "nuid": "ce3e7c18-bdcb-4e93-a408-306a6ecbf57c",
     "showTitle": false,
     "tableResultSettingsMap": {},
     "title": ""
    }
   },
   "source": [
    "#### What are the column names?"
   ]
  },
  {
   "cell_type": "code",
   "execution_count": 0,
   "metadata": {
    "application/vnd.databricks.v1+cell": {
     "cellMetadata": {
      "byteLimit": 2048000,
      "rowLimit": 10000
     },
     "inputWidgets": {},
     "nuid": "11f87199-17af-4f73-b48c-1686f45543dd",
     "showTitle": false,
     "tableResultSettingsMap": {},
     "title": ""
    },
    "collapsed": false
   },
   "outputs": [
    {
     "output_type": "stream",
     "name": "stdout",
     "output_type": "stream",
     "text": [
      "Out[6]: ['Date', 'Open', 'High', 'Low', 'Close', 'Volume', 'Adj Close']"
     ]
    }
   ],
   "source": [
    "stocks.columns"
   ]
  },
  {
   "cell_type": "markdown",
   "metadata": {
    "application/vnd.databricks.v1+cell": {
     "cellMetadata": {},
     "inputWidgets": {},
     "nuid": "4ae8974d-c463-409a-8efb-08e80432ccaf",
     "showTitle": false,
     "tableResultSettingsMap": {},
     "title": ""
    }
   },
   "source": [
    "#### What does the Schema look like?"
   ]
  },
  {
   "cell_type": "code",
   "execution_count": 0,
   "metadata": {
    "application/vnd.databricks.v1+cell": {
     "cellMetadata": {
      "byteLimit": 2048000,
      "rowLimit": 10000
     },
     "inputWidgets": {},
     "nuid": "79520f04-e672-4dea-9efe-6a0d89c8a6b6",
     "showTitle": false,
     "tableResultSettingsMap": {},
     "title": ""
    },
    "collapsed": false
   },
   "outputs": [
    {
     "output_type": "stream",
     "name": "stdout",
     "output_type": "stream",
     "text": [
      "root\n |-- Date: date (nullable = true)\n |-- Open: double (nullable = true)\n |-- High: double (nullable = true)\n |-- Low: double (nullable = true)\n |-- Close: double (nullable = true)\n |-- Volume: integer (nullable = true)\n |-- Adj Close: double (nullable = true)\n\n"
     ]
    }
   ],
   "source": [
    "stocks.printSchema()"
   ]
  },
  {
   "cell_type": "markdown",
   "metadata": {
    "application/vnd.databricks.v1+cell": {
     "cellMetadata": {},
     "inputWidgets": {},
     "nuid": "f69fcb81-006d-4dc5-bb61-9f16fd4c673b",
     "showTitle": false,
     "tableResultSettingsMap": {},
     "title": ""
    }
   },
   "source": [
    "#### Print out the first 5 columns."
   ]
  },
  {
   "cell_type": "code",
   "execution_count": 0,
   "metadata": {
    "application/vnd.databricks.v1+cell": {
     "cellMetadata": {
      "byteLimit": 2048000,
      "rowLimit": 10000
     },
     "inputWidgets": {},
     "nuid": "a45dcec4-6689-4f56-8678-306d92aafb59",
     "showTitle": false,
     "tableResultSettingsMap": {},
     "title": ""
    },
    "collapsed": false
   },
   "outputs": [
    {
     "output_type": "stream",
     "name": "stdout",
     "output_type": "stream",
     "text": [
      "+----------+---------+---------+---------+---------+--------+---------+\n|      Date|     Open|     High|      Low|    Close|  Volume|Adj Close|\n+----------+---------+---------+---------+---------+--------+---------+\n|2012-01-03|59.970001|61.060001|59.869999|60.330002|12668800|52.619235|\n|2012-01-04|60.209999|60.349998|59.470001|59.709999| 9593300|52.078475|\n|2012-01-05|59.349998|59.619999|58.369999|59.419998|12768200|51.825539|\n|2012-01-06|59.419998|59.450001|58.869999|     59.0| 8069400| 51.45922|\n|2012-01-09|59.029999|59.549999|58.919998|    59.18| 6679300|51.616215|\n+----------+---------+---------+---------+---------+--------+---------+\n\n"
     ]
    }
   ],
   "source": [
    "stocks.limit(5).show()"
   ]
  },
  {
   "cell_type": "markdown",
   "metadata": {
    "application/vnd.databricks.v1+cell": {
     "cellMetadata": {},
     "inputWidgets": {},
     "nuid": "b77bdca6-44d9-4054-888d-252cd0369ebe",
     "showTitle": false,
     "tableResultSettingsMap": {},
     "title": ""
    }
   },
   "source": [
    "#### Use describe() to learn about the DataFrame."
   ]
  },
  {
   "cell_type": "code",
   "execution_count": 0,
   "metadata": {
    "application/vnd.databricks.v1+cell": {
     "cellMetadata": {
      "byteLimit": 2048000,
      "rowLimit": 10000
     },
     "inputWidgets": {},
     "nuid": "cbb6ad36-b163-4a35-a0dc-1cf26643bcc0",
     "showTitle": false,
     "tableResultSettingsMap": {},
     "title": ""
    },
    "collapsed": false
   },
   "outputs": [
    {
     "output_type": "display_data",
     "data": {
      "text/html": [
       "<style scoped>\n",
       "  .table-result-container {\n",
       "    max-height: 300px;\n",
       "    overflow: auto;\n",
       "  }\n",
       "  table, th, td {\n",
       "    border: 1px solid black;\n",
       "    border-collapse: collapse;\n",
       "  }\n",
       "  th, td {\n",
       "    padding: 5px;\n",
       "  }\n",
       "  th {\n",
       "    text-align: left;\n",
       "  }\n",
       "</style><div class='table-result-container'><table class='table-result'><thead style='background-color: white'><tr><th>summary</th><th>Open</th><th>High</th><th>Low</th><th>Close</th><th>Volume</th><th>Adj Close</th></tr></thead><tbody><tr><td>count</td><td>1258</td><td>1258</td><td>1258</td><td>1258</td><td>1258</td><td>1258</td></tr><tr><td>mean</td><td>72.35785375357709</td><td>72.83938807631165</td><td>71.9186009594594</td><td>72.38844998012726</td><td>8222093.481717011</td><td>67.23883848728146</td></tr><tr><td>stddev</td><td>6.76809024470826</td><td>6.768186808159218</td><td>6.744075756255496</td><td>6.75685916373299</td><td>4519780.8431556</td><td>6.722609449996858</td></tr><tr><td>min</td><td>56.389999</td><td>57.060001</td><td>56.299999</td><td>56.419998</td><td>2094900</td><td>50.363689</td></tr><tr><td>max</td><td>90.800003</td><td>90.970001</td><td>89.25</td><td>90.470001</td><td>80898100</td><td>84.914216</td></tr></tbody></table></div>"
      ]
     },
     "metadata": {
      "application/vnd.databricks.v1+output": {
       "addedWidgets": {},
       "aggData": [],
       "aggError": "",
       "aggOverflow": false,
       "aggSchema": [],
       "aggSeriesLimitReached": false,
       "aggType": "",
       "arguments": {},
       "columnCustomDisplayInfos": {},
       "data": [
        [
         "count",
         "1258",
         "1258",
         "1258",
         "1258",
         "1258",
         "1258"
        ],
        [
         "mean",
         "72.35785375357709",
         "72.83938807631165",
         "71.9186009594594",
         "72.38844998012726",
         "8222093.481717011",
         "67.23883848728146"
        ],
        [
         "stddev",
         "6.76809024470826",
         "6.768186808159218",
         "6.744075756255496",
         "6.75685916373299",
         "4519780.8431556",
         "6.722609449996858"
        ],
        [
         "min",
         "56.389999",
         "57.060001",
         "56.299999",
         "56.419998",
         "2094900",
         "50.363689"
        ],
        [
         "max",
         "90.800003",
         "90.970001",
         "89.25",
         "90.470001",
         "80898100",
         "84.914216"
        ]
       ],
       "datasetInfos": [],
       "dbfsResultPath": null,
       "isJsonSchema": true,
       "metadata": {},
       "overflow": false,
       "plotOptions": {
        "customPlotOptions": {},
        "displayType": "table",
        "pivotAggregation": null,
        "pivotColumns": null,
        "xColumns": null,
        "yColumns": null
       },
       "removedWidgets": [],
       "schema": [
        {
         "metadata": "{}",
         "name": "summary",
         "type": "\"string\""
        },
        {
         "metadata": "{}",
         "name": "Open",
         "type": "\"string\""
        },
        {
         "metadata": "{}",
         "name": "High",
         "type": "\"string\""
        },
        {
         "metadata": "{}",
         "name": "Low",
         "type": "\"string\""
        },
        {
         "metadata": "{}",
         "name": "Close",
         "type": "\"string\""
        },
        {
         "metadata": "{}",
         "name": "Volume",
         "type": "\"string\""
        },
        {
         "metadata": "{}",
         "name": "Adj Close",
         "type": "\"string\""
        }
       ],
       "type": "table"
      }
     },
     "output_type": "display_data"
    }
   ],
   "source": [
    "display(stocks.describe())"
   ]
  },
  {
   "cell_type": "markdown",
   "metadata": {
    "application/vnd.databricks.v1+cell": {
     "cellMetadata": {},
     "inputWidgets": {},
     "nuid": "ce16ab14-1152-4333-bc6e-dc18b6d5eacd",
     "showTitle": false,
     "tableResultSettingsMap": {},
     "title": ""
    }
   },
   "source": [
    "## Bonus Question!\n",
    "#### There are too many decimal places for mean and stddev in the describe() dataframe. Format the numbers to just show up to two decimal places. Pay careful attention to the datatypes that .describe() returns, we didn't cover how to do this exact formatting, but we covered something very similar. [Check this link for a hint](http://spark.apache.org/docs/latest/api/python/pyspark.sql.html#pyspark.sql.Column.cast)\n",
    "\n",
    "If you get stuck on this, don't worry, just view the solutions."
   ]
  },
  {
   "cell_type": "code",
   "execution_count": 0,
   "metadata": {
    "application/vnd.databricks.v1+cell": {
     "cellMetadata": {
      "byteLimit": 2048000,
      "rowLimit": 10000
     },
     "inputWidgets": {},
     "nuid": "d042bf3c-c6c1-4436-a0f8-db6395dcf890",
     "showTitle": false,
     "tableResultSettingsMap": {},
     "title": ""
    },
    "collapsed": false
   },
   "outputs": [
    {
     "output_type": "stream",
     "name": "stdout",
     "output_type": "stream",
     "text": [
      "root\n |-- Date: date (nullable = true)\n |-- Open: double (nullable = true)\n |-- High: double (nullable = true)\n |-- Low: double (nullable = true)\n |-- Close: double (nullable = true)\n |-- Volume: integer (nullable = true)\n |-- Adj Close: double (nullable = true)\n\n"
     ]
    }
   ],
   "source": [
    "stocks.printSchema()"
   ]
  },
  {
   "cell_type": "code",
   "execution_count": 0,
   "metadata": {
    "application/vnd.databricks.v1+cell": {
     "cellMetadata": {
      "byteLimit": 2048000,
      "rowLimit": 10000
     },
     "inputWidgets": {},
     "nuid": "bd035614-8226-4b41-a83a-a166e44e290a",
     "showTitle": false,
     "tableResultSettingsMap": {},
     "title": ""
    },
    "collapsed": true
   },
   "outputs": [],
   "source": [
    "summary_df = movies.describe()\n",
    "\n",
    "\n",
    "for column in summary_df.columns:\n",
    "    if column not in [\"summary\"]:  # Exclude the summary column\n",
    "        summary_df = summary_df.withColumn(column, round(col(column).cast(\"float\"), 2))\n",
    "\n",
    "\n"
   ]
  },
  {
   "cell_type": "code",
   "execution_count": 0,
   "metadata": {
    "application/vnd.databricks.v1+cell": {
     "cellMetadata": {
      "byteLimit": 2048000,
      "rowLimit": 10000
     },
     "inputWidgets": {},
     "nuid": "f586dfad-55cd-40ef-b201-e84d552cd126",
     "showTitle": false,
     "tableResultSettingsMap": {},
     "title": ""
    },
    "collapsed": false
   },
   "outputs": [
    {
     "output_type": "stream",
     "name": "stdout",
     "output_type": "stream",
     "text": [
      "+-------+------+------+------+------+-----------+---------+\n|summary|  Open|  High|   Low| Close|     Volume|Adj Close|\n+-------+------+------+------+------+-----------+---------+\n|  count|1258.0|1258.0|1258.0|1258.0|     1258.0|   1258.0|\n|   mean| 72.36| 72.84| 71.92| 72.39|  8222093.5|    67.24|\n| stddev|  6.77|  6.77|  6.74|  6.76|  4519781.0|     6.72|\n|    min| 56.39| 57.06|  56.3| 56.42|  2094900.0|    50.36|\n|    max|  90.8| 90.97| 89.25| 90.47|8.0898096E7|    84.91|\n+-------+------+------+------+------+-----------+---------+\n\n"
     ]
    }
   ],
   "source": [
    "summary_df.show()"
   ]
  },
  {
   "cell_type": "markdown",
   "metadata": {
    "application/vnd.databricks.v1+cell": {
     "cellMetadata": {},
     "inputWidgets": {},
     "nuid": "47b9cac1-1998-4266-8cdf-5d75dd812063",
     "showTitle": false,
     "tableResultSettingsMap": {},
     "title": ""
    }
   },
   "source": [
    "#### Create a new dataframe with a column called HV Ratio that is the ratio of the High Price versus volume of stock traded for a day."
   ]
  },
  {
   "cell_type": "code",
   "execution_count": 0,
   "metadata": {
    "application/vnd.databricks.v1+cell": {
     "cellMetadata": {
      "byteLimit": 2048000,
      "rowLimit": 10000
     },
     "inputWidgets": {},
     "nuid": "9667e605-281f-4f51-b176-3ea777b8ae4a",
     "showTitle": false,
     "tableResultSettingsMap": {},
     "title": ""
    },
    "collapsed": false
   },
   "outputs": [
    {
     "output_type": "display_data",
     "data": {
      "text/html": [
       "<style scoped>\n",
       "  .table-result-container {\n",
       "    max-height: 300px;\n",
       "    overflow: auto;\n",
       "  }\n",
       "  table, th, td {\n",
       "    border: 1px solid black;\n",
       "    border-collapse: collapse;\n",
       "  }\n",
       "  th, td {\n",
       "    padding: 5px;\n",
       "  }\n",
       "  th {\n",
       "    text-align: left;\n",
       "  }\n",
       "</style><div class='table-result-container'><table class='table-result'><thead style='background-color: white'><tr><th>HV Ratio</th></tr></thead><tbody><tr><td>4.819714653321546E-6</td></tr><tr><td>6.290848613094555E-6</td></tr><tr><td>4.669412994783916E-6</td></tr><tr><td>7.367338463826307E-6</td></tr><tr><td>8.915604778943901E-6</td></tr><tr><td>8.644477436914568E-6</td></tr><tr><td>9.351828421515645E-6</td></tr><tr><td>8.29141562102703E-6</td></tr><tr><td>7.712212102001474E-6</td></tr><tr><td>7.0717648235294114E-6</td></tr><tr><td>1.015495466386981E-5</td></tr><tr><td>6.5763541463625925E-6</td></tr><tr><td>5.90145296180676E-6</td></tr><tr><td>8.547679455011844E-6</td></tr><tr><td>8.420709512685392E-6</td></tr><tr><td>1.0414483417289293E-5</td></tr><tr><td>8.316075414862431E-6</td></tr><tr><td>9.721183814992126E-6</td></tr><tr><td>8.029436027707578E-6</td></tr><tr><td>6.307432259386365E-6</td></tr><tr><td>5.162976357311263E-6</td></tr><tr><td>1.0057476051712203E-5</td></tr><tr><td>8.079252510611865E-6</td></tr><tr><td>1.1308980768528993E-5</td></tr><tr><td>1.017355893761094E-5</td></tr><tr><td>8.542699724517906E-6</td></tr><tr><td>9.632579690381367E-6</td></tr><tr><td>1.1254317396836938E-5</td></tr><tr><td>1.4869461556886228E-5</td></tr><tr><td>1.2031470878196825E-5</td></tr><tr><td>1.0703327048014125E-5</td></tr><tr><td>8.570365332671849E-6</td></tr><tr><td>7.638125930808858E-6</td></tr><tr><td>2.5319316336608802E-6</td></tr><tr><td>2.092196421960028E-6</td></tr><tr><td>3.958253664240641E-6</td></tr><tr><td>5.939008150394423E-6</td></tr><tr><td>4.7949227493718795E-6</td></tr><tr><td>5.491595164422639E-6</td></tr><tr><td>5.166138587997632E-6</td></tr><tr><td>3.64900288014542E-6</td></tr><tr><td>6.019435119464668E-6</td></tr><tr><td>6.174489690187545E-6</td></tr><tr><td>6.538516854180698E-6</td></tr><tr><td>4.012898189302067E-6</td></tr><tr><td>7.690235645748885E-6</td></tr><tr><td>9.566336824039791E-6</td></tr><tr><td>8.037694277267448E-6</td></tr><tr><td>6.992879124401804E-6</td></tr><tr><td>9.592157176470589E-6</td></tr><tr><td>9.068837601776463E-6</td></tr><tr><td>5.089798130345861E-6</td></tr><tr><td>7.377694955101249E-6</td></tr><tr><td>7.692599507046704E-6</td></tr><tr><td>8.31461918716109E-6</td></tr><tr><td>1.0641241157105836E-5</td></tr><tr><td>8.745705908561738E-6</td></tr><tr><td>9.866769646649933E-6</td></tr><tr><td>8.365525871919038E-6</td></tr><tr><td>8.6299831555306E-6</td></tr><tr><td>9.108298489173155E-6</td></tr><tr><td>8.848358832512173E-6</td></tr><tr><td>9.509890657139764E-6</td></tr><tr><td>5.4927952343896746E-6</td></tr><tr><td>5.583456969875688E-6</td></tr><tr><td>9.295878046165393E-6</td></tr><tr><td>8.83235505071944E-6</td></tr><tr><td>6.3215080968481435E-6</td></tr><tr><td>7.781664364908296E-6</td></tr><tr><td>8.170799706828454E-6</td></tr><tr><td>8.99650345157338E-6</td></tr><tr><td>8.884376150542033E-6</td></tr><tr><td>5.802517796260912E-6</td></tr><tr><td>7.82300529073932E-6</td></tr><tr><td>9.726314972725563E-6</td></tr><tr><td>6.945108416595352E-6</td></tr><tr><td>1.584958731612085E-6</td></tr><tr><td>1.9723766890656882E-6</td></tr><tr><td>2.0859066536245438E-6</td></tr><tr><td>2.368399029207465E-6</td></tr><tr><td>6.586249183087983E-6</td></tr><tr><td>7.883623606767701E-6</td></tr><tr><td>5.977389392579445E-6</td></tr><tr><td>8.073274630156375E-6</td></tr><tr><td>8.589793961026712E-6</td></tr><tr><td>8.521851825185399E-6</td></tr><tr><td>6.855928599477951E-6</td></tr><tr><td>5.779058238346003E-6</td></tr><tr><td>5.309385710188571E-6</td></tr><tr><td>7.700854057126616E-6</td></tr><tr><td>7.981428227360309E-6</td></tr><tr><td>9.603289630704725E-6</td></tr><tr><td>5.647925653795898E-6</td></tr><tr><td>5.504654874931953E-6</td></tr><tr><td>2.133659242670454E-6</td></tr><tr><td>3.7659269303156213E-6</td></tr><tr><td>5.65924340128611E-6</td></tr><tr><td>5.2963295070562515E-6</td></tr><tr><td>4.1250591116042395E-6</td></tr><tr><td>5.766763693630726E-6</td></tr><tr><td>6.434247880627511E-6</td></tr><tr><td>6.551823969552352E-6</td></tr><tr><td>6.608414782007475E-6</td></tr><tr><td>3.976022427007843E-6</td></tr><tr><td>4.305685164731026E-6</td></tr><tr><td>4.765507681886314E-6</td></tr><tr><td>7.054919387645863E-6</td></tr><tr><td>6.081922115996275E-6</td></tr><tr><td>5.2667236803302855E-6</td></tr><tr><td>3.787904189289719E-6</td></tr><tr><td>6.527251177154621E-6</td></tr><tr><td>7.549121920826009E-6</td></tr><tr><td>6.302970536520016E-6</td></tr><tr><td>6.7827984671415995E-6</td></tr><tr><td>5.341390519541673E-6</td></tr><tr><td>9.039517971801153E-6</td></tr><tr><td>8.63268403743992E-6</td></tr><tr><td>7.6241964226122944E-6</td></tr><tr><td>6.975090820431549E-6</td></tr><tr><td>5.995245730525318E-6</td></tr><tr><td>5.767247899514817E-6</td></tr><tr><td>6.3745165467359744E-6</td></tr><tr><td>7.814453613403352E-6</td></tr><tr><td>7.967686048680406E-6</td></tr><tr><td>6.5382524335577766E-6</td></tr><tr><td>6.709703123201473E-6</td></tr><tr><td>7.532970398203242E-6</td></tr><tr><td>5.7312811382179175E-6</td></tr><tr><td>8.909753908005793E-6</td></tr><tr><td>6.435643743722199E-6</td></tr><tr><td>5.445596704731321E-6</td></tr><tr><td>5.916415684544958E-6</td></tr><tr><td>7.122540948233586E-6</td></tr><tr><td>8.953435532572952E-6</td></tr><tr><td>9.056258198648617E-6</td></tr><tr><td>6.0034655847835545E-6</td></tr><tr><td>7.736621941843687E-6</td></tr><tr><td>4.3168622467116955E-6</td></tr><tr><td>6.558993666304741E-6</td></tr><tr><td>1.0814992563659581E-5</td></tr><tr><td>9.663308854020359E-6</td></tr><tr><td>1.0378263653160313E-5</td></tr><tr><td>9.02665848835506E-6</td></tr><tr><td>6.886710214979515E-6</td></tr><tr><td>8.226906709237228E-6</td></tr><tr><td>9.008879477105335E-6</td></tr><tr><td>7.711104340653675E-6</td></tr><tr><td>9.163475101939949E-6</td></tr><tr><td>8.576658924485125E-6</td></tr><tr><td>1.2246832529628116E-5</td></tr><tr><td>9.797097379998687E-6</td></tr><tr><td>1.1326634844868735E-5</td></tr><tr><td>1.4101083694438664E-5</td></tr><tr><td>1.3155097267991921E-5</td></tr><tr><td>1.169496936994128E-5</td></tr><tr><td>1.0255453880143608E-5</td></tr><tr><td>9.58530523255814E-6</td></tr><tr><td>4.084050030314598E-6</td></tr><tr><td>7.466949018479903E-6</td></tr><tr><td>1.3049904301908556E-5</td></tr><tr><td>9.475779518482617E-6</td></tr><tr><td>1.0786668368112896E-5</td></tr><tr><td>1.1979817488468137E-5</td></tr><tr><td>1.3911099400782257E-5</td></tr><tr><td>1.2622032807921067E-5</td></tr><tr><td>1.5076616625541708E-5</td></tr><tr><td>1.7259146497116384E-5</td></tr><tr><td>1.3891010463606508E-5</td></tr><tr><td>1.2395710693106318E-5</td></tr><tr><td>8.662497624382633E-6</td></tr><tr><td>9.28541793799676E-6</td></tr><tr><td>1.149419958515787E-5</td></tr><tr><td>1.1296705077476062E-5</td></tr><tr><td>1.1402901955354533E-5</td></tr><tr><td>1.406433042295045E-5</td></tr><tr><td>1.72995481409093E-5</td></tr><tr><td>1.0150660420660422E-5</td></tr><tr><td>8.785453799922678E-6</td></tr><tr><td>1.0894873515595368E-5</td></tr><tr><td>1.398352180388756E-5</td></tr><tr><td>1.3195070103785429E-5</td></tr><tr><td>1.6541386628935264E-5</td></tr><tr><td>7.109246660291793E-6</td></tr><tr><td>1.6983483018782428E-5</td></tr><tr><td>1.1681479757809704E-5</td></tr><tr><td>1.557576557264459E-5</td></tr><tr><td>1.3821635962227045E-5</td></tr><tr><td>1.2300282012954658E-5</td></tr><tr><td>1.5977092422195053E-5</td></tr><tr><td>1.755222494984067E-5</td></tr><tr><td>9.155265962007178E-6</td></tr><tr><td>1.4999300525905337E-5</td></tr><tr><td>1.4505004706922058E-5</td></tr><tr><td>1.661937196154777E-5</td></tr><tr><td>9.073946649332515E-6</td></tr><tr><td>3.96647515078906E-6</td></tr><tr><td>9.201849858867335E-6</td></tr><tr><td>9.470315095961043E-6</td></tr><tr><td>7.999296558285762E-6</td></tr><tr><td>1.2297744568231883E-5</td></tr><tr><td>1.0340916672226299E-5</td></tr><tr><td>1.054233766056486E-5</td></tr><tr><td>1.104933366942744E-5</td></tr><tr><td>1.3967633538540937E-5</td></tr><tr><td>1.293988549683745E-5</td></tr><tr><td>1.6364112410542854E-5</td></tr><tr><td>1.7031739944505855E-5</td></tr><tr><td>1.6960129078684028E-5</td></tr><tr><td>1.1552082061301748E-5</td></tr><tr><td>5.80673104854909E-6</td></tr><tr><td>8.591113446604776E-6</td></tr><tr><td>1.535331438639176E-5</td></tr><tr><td>1.3924714869526096E-5</td></tr><tr><td>1.0851848338448436E-5</td></tr><tr><td>1.0365555057376245E-5</td></tr><tr><td>1.053486925733523E-5</td></tr><tr><td>1.656475266952633E-5</td></tr><tr><td>8.053557043241919E-6</td></tr><tr><td>7.902275196733726E-6</td></tr><tr><td>3.0235717105805486E-6</td></tr><tr><td>5.604099012001208E-6</td></tr><tr><td>5.385759794946906E-6</td></tr><tr><td>7.370191173652949E-6</td></tr><tr><td>9.810216205466219E-6</td></tr><tr><td>1.367894175154336E-5</td></tr><tr><td>7.740378587488426E-6</td></tr><tr><td>9.505167495225066E-6</td></tr><tr><td>6.7461222895468914E-6</td></tr><tr><td>7.384231692739463E-6</td></tr><tr><td>5.776439544420594E-6</td></tr><tr><td>7.960997931064842E-6</td></tr><tr><td>5.662805506805507E-6</td></tr><tr><td>7.5705332590505825E-6</td></tr><tr><td>1.0026373899331574E-5</td></tr><tr><td>9.96704599752849E-6</td></tr><tr><td>1.2257692151281009E-5</td></tr><tr><td>4.981157725248373E-6</td></tr><tr><td>3.0061660805319226E-6</td></tr><tr><td>4.869589707585916E-6</td></tr><tr><td>6.59855488797692E-6</td></tr><tr><td>6.6000742520200915E-6</td></tr><tr><td>6.010457816355761E-6</td></tr><tr><td>6.9686760518188745E-6</td></tr><tr><td>7.129657144626947E-6</td></tr><tr><td>5.227118433980803E-6</td></tr><tr><td>2.3688377168824013E-5</td></tr><tr><td>1.1267212985606198E-5</td></tr><tr><td>9.265729259770862E-6</td></tr><tr><td>1.239706859651032E-5</td></tr><tr><td>9.739750873440286E-6</td></tr><tr><td>6.663586826808331E-6</td></tr><tr><td>7.78330187091054E-6</td></tr><tr><td>1.0745573159366264E-5</td></tr><tr><td>1.1113619182765183E-5</td></tr><tr><td>1.1742146448720791E-5</td></tr><tr><td>1.3591944730178824E-5</td></tr><tr><td>6.0268207057919645E-6</td></tr><tr><td>1.1051490240179935E-5</td></tr><tr><td>1.2507285079411338E-5</td></tr><tr><td>1.1276138036609993E-5</td></tr><tr><td>1.4105614794932795E-5</td></tr><tr><td>9.584381826728977E-6</td></tr><tr><td>8.856579338060255E-6</td></tr><tr><td>1.211746933662729E-5</td></tr><tr><td>1.0940396361579792E-5</td></tr><tr><td>7.658386913229019E-6</td></tr><tr><td>8.78547134053742E-6</td></tr><tr><td>9.851448659069003E-6</td></tr><tr><td>7.342404689935048E-6</td></tr><tr><td>9.98775076204313E-6</td></tr><tr><td>1.0039622872780138E-5</td></tr><tr><td>1.0936773388322119E-5</td></tr><tr><td>6.496705361872985E-6</td></tr><tr><td>6.75217329343024E-6</td></tr><tr><td>7.309024575211625E-6</td></tr><tr><td>8.624155701886384E-6</td></tr><tr><td>1.2128804896217791E-5</td></tr><tr><td>1.1529036533066778E-5</td></tr><tr><td>1.504829987400252E-5</td></tr><tr><td>1.806682381696316E-5</td></tr><tr><td>1.0442750769681864E-5</td></tr><tr><td>2.7254640102477445E-6</td></tr><tr><td>4.730185120859811E-6</td></tr><tr><td>5.833667234582749E-6</td></tr><tr><td>3.5011831128050123E-6</td></tr><tr><td>7.696504277047964E-6</td></tr><tr><td>6.03675839425941E-6</td></tr><tr><td>6.76195337955596E-6</td></tr><tr><td>8.159655176323846E-6</td></tr><tr><td>3.8064774195598297E-6</td></tr><tr><td>8.07656470799681E-6</td></tr><tr><td>6.932773298508593E-6</td></tr><tr><td>8.098884379785605E-6</td></tr><tr><td>1.0368411799261498E-5</td></tr><tr><td>1.101946122754491E-5</td></tr><tr><td>1.2775475925216726E-5</td></tr><tr><td>1.4224949598927885E-5</td></tr><tr><td>9.063703730958863E-6</td></tr><tr><td>1.3931393890463941E-5</td></tr><tr><td>1.1647673613297236E-5</td></tr><tr><td>4.2744735418811175E-6</td></tr><tr><td>1.2602669034829318E-5</td></tr><tr><td>1.2666875782227784E-5</td></tr><tr><td>1.1610207901523663E-5</td></tr><tr><td>1.3341929104545371E-5</td></tr><tr><td>1.0143641415658538E-5</td></tr><tr><td>7.195340511749547E-6</td></tr><tr><td>1.130464831988438E-5</td></tr><tr><td>1.2555482806559134E-5</td></tr><tr><td>1.0174667290962637E-5</td></tr><tr><td>9.02274401692136E-6</td></tr><tr><td>1.1448486029987356E-5</td></tr><tr><td>1.0287232187177183E-5</td></tr><tr><td>1.0199515463093684E-5</td></tr><tr><td>1.2994235668248218E-5</td></tr><tr><td>9.59121212121212E-6</td></tr><tr><td>9.049700573247673E-6</td></tr><tr><td>9.115013024770322E-6</td></tr><tr><td>1.0992972885778008E-5</td></tr><tr><td>1.2443188675672263E-5</td></tr><tr><td>9.277397343631152E-6</td></tr><tr><td>1.150501882002801E-5</td></tr><tr><td>1.0908313329470518E-5</td></tr><tr><td>5.559502000858013E-6</td></tr><tr><td>1.0004464256106116E-5</td></tr><tr><td>1.5216590428524317E-5</td></tr><tr><td>1.1906336569676566E-5</td></tr><tr><td>9.834727101786333E-6</td></tr><tr><td>1.3759578642369656E-5</td></tr><tr><td>1.3361807346883652E-5</td></tr><tr><td>1.2871946465696465E-5</td></tr><tr><td>9.829521579753446E-6</td></tr><tr><td>1.2564893695190326E-5</td></tr><tr><td>1.7366580670855826E-5</td></tr><tr><td>1.4157491122570975E-5</td></tr><tr><td>1.6472106873088207E-5</td></tr><tr><td>1.2043645508362376E-5</td></tr><tr><td>9.822064556408816E-6</td></tr><tr><td>1.2116375982077092E-5</td></tr><tr><td>1.3532378241185348E-5</td></tr><tr><td>1.0233474895967022E-5</td></tr><tr><td>7.87521106084664E-6</td></tr><tr><td>9.993625751459174E-6</td></tr><tr><td>6.501987121349537E-6</td></tr><tr><td>7.365993645318812E-6</td></tr><tr><td>1.3954071937806757E-5</td></tr><tr><td>1.0445866680918724E-5</td></tr><tr><td>8.614485511498898E-6</td></tr><tr><td>9.559901841405532E-6</td></tr><tr><td>1.019948403077896E-5</td></tr><tr><td>1.2879588229469237E-5</td></tr><tr><td>1.3098618397565579E-5</td></tr><tr><td>1.228965976236352E-5</td></tr><tr><td>7.760345280482674E-6</td></tr><tr><td>8.980510988685505E-6</td></tr><tr><td>8.17422913099315E-6</td></tr><tr><td>1.1204378042663676E-5</td></tr><tr><td>8.035988795874845E-6</td></tr><tr><td>9.209076456775924E-6</td></tr><tr><td>1.138676401990641E-5</td></tr><tr><td>1.2624867141715502E-5</td></tr><tr><td>1.6002620743590285E-5</td></tr><tr><td>1.040541501484909E-5</td></tr><tr><td>1.1850743446429978E-5</td></tr><tr><td>1.1642440051847051E-5</td></tr><tr><td>1.1258660919625504E-5</td></tr><tr><td>9.11983275503956E-6</td></tr><tr><td>8.23180524162872E-6</td></tr><tr><td>5.094579079268083E-6</td></tr><tr><td>7.712456147587474E-6</td></tr><tr><td>1.0356341267422206E-5</td></tr><tr><td>1.3722984813084114E-5</td></tr><tr><td>1.0738169954005474E-5</td></tr><tr><td>5.200607906078374E-6</td></tr><tr><td>1.1239679143586605E-5</td></tr><tr><td>1.1251189343482399E-5</td></tr><tr><td>3.242963348299085E-5</td></tr><tr><td>1.3824648138283215E-5</td></tr><tr><td>1.1435337831799088E-5</td></tr><tr><td>1.4685858792740515E-5</td></tr><tr><td>1.5065217813891104E-5</td></tr><tr><td>1.6610763347362573E-5</td></tr><tr><td>1.7423783116853983E-5</td></tr><tr><td>1.5816828245211983E-5</td></tr><tr><td>1.6452119338941284E-5</td></tr><tr><td>1.4536654831536263E-5</td></tr><tr><td>1.8687198004771202E-5</td></tr><tr><td>1.1451969410627172E-5</td></tr><tr><td>1.881823866095907E-5</td></tr><tr><td>1.4968873764967922E-5</td></tr><tr><td>1.596146085192698E-5</td></tr><tr><td>1.325293047532178E-5</td></tr><tr><td>1.4587500514105177E-5</td></tr><tr><td>2.258297258297258E-5</td></tr><tr><td>1.728389637602841E-5</td></tr><tr><td>1.2991657230830353E-5</td></tr><tr><td>1.5220461237835435E-5</td></tr><tr><td>1.2859452309802576E-5</td></tr><tr><td>2.0224776631422646E-5</td></tr><tr><td>1.172529063260159E-5</td></tr><tr><td>1.3339175043387117E-5</td></tr><tr><td>1.7406753301897334E-5</td></tr><tr><td>1.3412899420601602E-5</td></tr><tr><td>1.3373077414895456E-5</td></tr><tr><td>1.2106252938410907E-5</td></tr><tr><td>1.132241477397692E-5</td></tr><tr><td>5.678629656241727E-6</td></tr><tr><td>1.0269487904059549E-5</td></tr><tr><td>1.3780312773770249E-5</td></tr><tr><td>1.1048911617715477E-5</td></tr><tr><td>9.176889661917083E-6</td></tr><tr><td>1.875411638040229E-5</td></tr><tr><td>1.347253429787545E-5</td></tr><tr><td>1.3789686249579298E-5</td></tr><tr><td>1.2632179314396295E-5</td></tr><tr><td>1.2990764361872837E-5</td></tr><tr><td>1.782691575754611E-5</td></tr><tr><td>1.2045432066202893E-5</td></tr><tr><td>1.0280844208467235E-5</td></tr><tr><td>1.5665774611676485E-5</td></tr><tr><td>1.5699178079265035E-5</td></tr><tr><td>1.2635142827536182E-5</td></tr><tr><td>1.3335144305630998E-5</td></tr><tr><td>1.084101485690912E-5</td></tr><tr><td>1.3913564601371866E-5</td></tr><tr><td>1.4162453342962485E-5</td></tr><tr><td>1.8505621828673764E-5</td></tr><tr><td>1.7899824310812743E-5</td></tr><tr><td>1.7584696630784284E-5</td></tr><tr><td>1.1120798494558031E-5</td></tr><tr><td>1.0764469934594557E-5</td></tr><tr><td>8.640760997332609E-6</td></tr><tr><td>1.3636769140185916E-5</td></tr><tr><td>1.116105239425147E-5</td></tr><tr><td>5.0720331545587526E-6</td></tr><tr><td>1.4765365589492133E-5</td></tr><tr><td>1.766715678830731E-5</td></tr><tr><td>1.1047759792669382E-5</td></tr><tr><td>1.3019117082195402E-5</td></tr><tr><td>9.99444164260246E-6</td></tr><tr><td>1.024151749401081E-5</td></tr><tr><td>1.2766845346834387E-5</td></tr><tr><td>1.0516379821096655E-5</td></tr><tr><td>7.934563647796016E-6</td></tr><tr><td>1.133995052107493E-5</td></tr><tr><td>9.748444441551001E-6</td></tr><tr><td>1.1460822459106781E-5</td></tr><tr><td>1.2654132621951218E-5</td></tr><tr><td>8.380683731222131E-6</td></tr><tr><td>1.2785527601656944E-5</td></tr><tr><td>1.1902863598692748E-5</td></tr><tr><td>1.118509243573691E-5</td></tr><tr><td>1.4134710389440912E-5</td></tr><tr><td>1.1008130963517305E-5</td></tr><tr><td>1.3006592391952436E-5</td></tr><tr><td>1.3046740787476766E-5</td></tr><tr><td>1.188456090914721E-5</td></tr><tr><td>1.0979181929355554E-5</td></tr><tr><td>1.0437506319242767E-5</td></tr><tr><td>1.6687472879896686E-5</td></tr><tr><td>1.6726650333882577E-5</td></tr><tr><td>1.51287117140009E-5</td></tr><tr><td>1.6506877404817076E-5</td></tr><tr><td>1.526103647625602E-5</td></tr><tr><td>1.6209723970844032E-5</td></tr><tr><td>9.370358066989314E-6</td></tr><tr><td>1.3455762884462702E-5</td></tr><tr><td>1.06127105563385E-5</td></tr><tr><td>1.4995917472133076E-5</td></tr><tr><td>9.532141624530875E-6</td></tr><tr><td>8.549682222293891E-6</td></tr><tr><td>1.3413747187494714E-5</td></tr><tr><td>1.330269844198098E-5</td></tr><tr><td>1.781144736251403E-5</td></tr><tr><td>1.7598031387848294E-5</td></tr><tr><td>2.0619629523561572E-5</td></tr><tr><td>1.6597743812472725E-5</td></tr><tr><td>1.420887415349887E-5</td></tr><tr><td>1.4568962403842682E-5</td></tr><tr><td>1.682837138761349E-5</td></tr><tr><td>2.3598862265026687E-5</td></tr><tr><td>1.315550935517286E-5</td></tr><tr><td>1.0834754609399977E-5</td></tr><tr><td>1.0648851358425378E-5</td></tr><tr><td>1.2367441395348839E-5</td></tr><tr><td>1.5768165523476346E-5</td></tr><tr><td>1.7906759283996795E-5</td></tr><tr><td>1.2695483876099719E-5</td></tr><tr><td>1.3289324698272988E-5</td></tr><tr><td>1.3925785719305643E-5</td></tr><tr><td>1.581345800208785E-5</td></tr><tr><td>1.2770664887992321E-5</td></tr><tr><td>1.3509903736080758E-5</td></tr><tr><td>7.333289729821228E-6</td></tr><tr><td>1.3068811834637472E-5</td></tr><tr><td>8.138951279157262E-6</td></tr><tr><td>1.736236291992253E-5</td></tr><tr><td>3.734784381116044E-5</td></tr><tr><td>2.826290295875027E-5</td></tr><tr><td>2.5878688524590165E-5</td></tr><tr><td>2.5556454560181437E-5</td></tr><tr><td>2.043740846311316E-5</td></tr><tr><td>1.155423102646118E-5</td></tr><tr><td>1.5961995602533587E-5</td></tr><tr><td>1.0838988489327216E-5</td></tr><tr><td>1.5731300600522713E-5</td></tr><tr><td>1.3183436660397637E-5</td></tr><tr><td>1.3251525784696516E-5</td></tr><tr><td>1.5193098450195895E-5</td></tr><tr><td>1.2661784212150246E-5</td></tr><tr><td>1.9079301404040897E-5</td></tr><tr><td>1.564377814277702E-5</td></tr><tr><td>1.0757481219190446E-5</td></tr><tr><td>6.71462410516839E-6</td></tr><tr><td>8.515120665247294E-6</td></tr><tr><td>1.2996908280233013E-5</td></tr><tr><td>1.2506868288297287E-5</td></tr><tr><td>8.049031694668266E-6</td></tr><tr><td>8.182688723359777E-6</td></tr><tr><td>1.251784739515888E-5</td></tr><tr><td>8.936765950887511E-6</td></tr><tr><td>1.115269735180977E-5</td></tr><tr><td>7.130528981109173E-6</td></tr><tr><td>7.14237778864314E-6</td></tr><tr><td>9.425568693185481E-6</td></tr><tr><td>1.532371321450265E-5</td></tr><tr><td>9.95634480695217E-6</td></tr><tr><td>1.0126791124650092E-5</td></tr><tr><td>1.188891249335117E-5</td></tr><tr><td>1.1495576545030102E-5</td></tr><tr><td>1.4079178995467996E-5</td></tr><tr><td>1.4378499485733876E-5</td></tr><tr><td>1.5480046038827435E-5</td></tr><tr><td>1.2621375754946779E-5</td></tr><tr><td>9.264110795419602E-6</td></tr><tr><td>5.657881658523905E-6</td></tr><tr><td>8.18191974138892E-6</td></tr><tr><td>1.0082633340162534E-5</td></tr><tr><td>7.776266042371899E-6</td></tr><tr><td>8.32391190618696E-6</td></tr><tr><td>1.3725633970852759E-5</td></tr><tr><td>1.0099938478897456E-5</td></tr><tr><td>1.3963272870072558E-5</td></tr><tr><td>1.0006892812640844E-5</td></tr><tr><td>1.3634883072690413E-5</td></tr><tr><td>1.470841675478792E-5</td></tr><tr><td>1.4830055592925256E-5</td></tr><tr><td>1.5454733374766936E-5</td></tr><tr><td>8.324820222972372E-6</td></tr><tr><td>8.779961982474848E-6</td></tr><tr><td>1.307923426903597E-5</td></tr><tr><td>1.1341592385556729E-5</td></tr><tr><td>1.294893052383918E-5</td></tr><tr><td>1.9014655408489275E-5</td></tr><tr><td>1.3037440940098245E-5</td></tr><tr><td>8.76179450072359E-6</td></tr><tr><td>4.488292502418387E-6</td></tr><tr><td>1.0550175561508345E-5</td></tr><tr><td>1.044945937525399E-5</td></tr><tr><td>1.0032609410181423E-5</td></tr><tr><td>1.3726190901618839E-5</td></tr><tr><td>1.304695849159442E-5</td></tr><tr><td>1.6351477766419627E-5</td></tr><tr><td>1.3388214904679375E-5</td></tr><tr><td>1.2699692667116369E-5</td></tr><tr><td>1.2838341693568413E-5</td></tr><tr><td>1.15233280080471E-5</td></tr><tr><td>1.0125461000299646E-5</td></tr><tr><td>1.0443143211489991E-5</td></tr><tr><td>1.1372822850330048E-5</td></tr><tr><td>1.0282119979998947E-5</td></tr><tr><td>9.679158165183607E-6</td></tr><tr><td>1.4425492103647762E-5</td></tr><tr><td>1.1158098028461737E-5</td></tr><tr><td>1.538079753017789E-5</td></tr><tr><td>1.1163438482633854E-5</td></tr><tr><td>1.6915845792256968E-5</td></tr><tr><td>1.2037739076637537E-5</td></tr><tr><td>1.3482139609383074E-5</td></tr><tr><td>1.8049453939045427E-5</td></tr><tr><td>1.4608908318807255E-5</td></tr><tr><td>8.333419942283851E-6</td></tr><tr><td>1.700917924910024E-5</td></tr><tr><td>1.3078194283096358E-5</td></tr><tr><td>1.563946704590035E-5</td></tr><tr><td>1.4192171174377225E-5</td></tr><tr><td>1.7196688521019386E-5</td></tr><tr><td>1.3901647307098903E-5</td></tr><tr><td>1.2832308829811705E-5</td></tr><tr><td>1.635273658880637E-5</td></tr><tr><td>1.6191487419328485E-5</td></tr><tr><td>1.3205440681356044E-5</td></tr><tr><td>1.81886937690492E-5</td></tr><tr><td>1.4095180892605604E-5</td></tr><tr><td>5.940563831909051E-6</td></tr><tr><td>1.068223818990033E-5</td></tr><tr><td>1.2579713437607032E-5</td></tr><tr><td>1.026934029878844E-5</td></tr><tr><td>1.3316736908539471E-5</td></tr><tr><td>1.4478325991189429E-5</td></tr><tr><td>2.045307268603521E-5</td></tr><tr><td>1.4115215237953375E-5</td></tr><tr><td>1.5076734102324843E-5</td></tr><tr><td>1.903084850755589E-5</td></tr><tr><td>1.2877212647532187E-5</td></tr><tr><td>1.756332019861516E-5</td></tr><tr><td>1.067012323943662E-5</td></tr><tr><td>1.2467943515217987E-5</td></tr><tr><td>1.649133310617999E-5</td></tr><tr><td>1.852276158418678E-5</td></tr><tr><td>1.4016872521450717E-5</td></tr><tr><td>2.2860029711501324E-5</td></tr><tr><td>1.719355588914032E-5</td></tr><tr><td>1.4276880785518871E-5</td></tr><tr><td>1.5208271002710026E-5</td></tr><tr><td>1.962099430710442E-5</td></tr><tr><td>1.1524708596925523E-5</td></tr><tr><td>1.1268859168929042E-5</td></tr><tr><td>1.451487051167393E-5</td></tr><tr><td>6.722444156142163E-6</td></tr><tr><td>1.7795379387917703E-5</td></tr><tr><td>1.3483006740618862E-5</td></tr><tr><td>1.756287249316845E-5</td></tr><tr><td>1.0922985943572038E-5</td></tr><tr><td>5.3994038307260335E-6</td></tr><tr><td>1.1375454928011063E-5</td></tr><tr><td>1.141948641078053E-5</td></tr><tr><td>1.738114912521755E-5</td></tr><tr><td>2.6461378914405013E-5</td></tr><tr><td>1.5157119928400954E-5</td></tr><tr><td>9.670247220651969E-6</td></tr><tr><td>1.2392429929007547E-5</td></tr><tr><td>1.4438343415542112E-5</td></tr><tr><td>1.692578361737218E-5</td></tr><tr><td>1.601733396918866E-5</td></tr><tr><td>1.6519573106573045E-5</td></tr><tr><td>2.0689007840610066E-5</td></tr><tr><td>1.6640391119365915E-5</td></tr><tr><td>1.569210062483463E-5</td></tr><tr><td>2.2243754049051366E-5</td></tr><tr><td>1.7541978235079394E-5</td></tr><tr><td>1.9292491300102646E-5</td></tr><tr><td>1.0623521574920797E-5</td></tr><tr><td>1.9339479536014588E-5</td></tr><tr><td>1.3780649376576709E-5</td></tr><tr><td>1.2077540637165329E-5</td></tr><tr><td>7.609349115984445E-6</td></tr><tr><td>7.708999543170397E-6</td></tr><tr><td>8.98357190627318E-6</td></tr><tr><td>1.3629884119138854E-5</td></tr><tr><td>6.949025699675801E-6</td></tr><tr><td>9.362554947824772E-6</td></tr><tr><td>1.0612852603206128E-5</td></tr><tr><td>1.4957068830934892E-5</td></tr><tr><td>1.580039776337527E-5</td></tr><tr><td>1.895015579654804E-5</td></tr><tr><td>1.1241710202293364E-5</td></tr><tr><td>1.2129459120316804E-5</td></tr><tr><td>1.075230126607804E-5</td></tr><tr><td>1.859700674851209E-5</td></tr><tr><td>1.484577784821411E-5</td></tr><tr><td>1.5321642814854132E-5</td></tr><tr><td>1.4429913698057256E-5</td></tr><tr><td>1.8415582435110445E-5</td></tr><tr><td>2.2400989214992928E-5</td></tr><tr><td>1.80326320774823E-5</td></tr><tr><td>2.3703287401574802E-5</td></tr><tr><td>2.5973937818517634E-5</td></tr><tr><td>1.4935537250270644E-5</td></tr><tr><td>1.675492057188245E-5</td></tr><tr><td>1.6208009937571665E-5</td></tr><tr><td>1.4501258542680272E-5</td></tr><tr><td>9.91226542375475E-6</td></tr><tr><td>1.3019245988314333E-5</td></tr><tr><td>1.3671875E-5</td></tr><tr><td>1.1509459616849082E-5</td></tr><tr><td>1.5432136555427695E-5</td></tr><tr><td>1.3454700387452896E-5</td></tr><tr><td>2.0245431239162334E-5</td></tr><tr><td>1.863243703613578E-5</td></tr><tr><td>1.803963222458127E-5</td></tr><tr><td>1.6116337731759157E-5</td></tr><tr><td>5.784516080609449E-6</td></tr><tr><td>1.726919383467769E-5</td></tr><tr><td>1.1362552325581395E-5</td></tr><tr><td>9.165816754795721E-6</td></tr><tr><td>1.552332084214768E-5</td></tr><tr><td>2.0402888432945188E-5</td></tr><tr><td>1.5375153751537514E-5</td></tr><tr><td>1.3601148970872409E-5</td></tr><tr><td>1.17794910266824E-5</td></tr><tr><td>1.5628302852962692E-5</td></tr><tr><td>1.331340154990807E-5</td></tr><tr><td>1.4350700407020647E-5</td></tr><tr><td>1.100440544483633E-5</td></tr><tr><td>9.681636836846714E-6</td></tr><tr><td>1.1145673081001597E-5</td></tr><tr><td>7.875570847390355E-6</td></tr><tr><td>9.581524898795297E-6</td></tr><tr><td>9.95177848653985E-6</td></tr><tr><td>3.6893868751098175E-6</td></tr><tr><td>5.162895738363096E-6</td></tr><tr><td>6.499568149498791E-6</td></tr><tr><td>1.0683596943485732E-5</td></tr><tr><td>9.181054375459353E-6</td></tr><tr><td>1.2932722180983872E-5</td></tr><tr><td>1.2038447959039438E-5</td></tr><tr><td>1.70774176265738E-5</td></tr><tr><td>1.874178385353265E-5</td></tr><tr><td>1.5422926138645675E-5</td></tr><tr><td>1.3306248415716097E-5</td></tr><tr><td>1.572120474509482E-5</td></tr><tr><td>1.0223625556421467E-5</td></tr><tr><td>1.1078556074495242E-5</td></tr><tr><td>1.1205086677576793E-5</td></tr><tr><td>1.378793806619902E-5</td></tr><tr><td>1.691512148683442E-5</td></tr><tr><td>8.325262348928285E-6</td></tr><tr><td>6.339147739409043E-6</td></tr><tr><td>1.417606704269599E-5</td></tr><tr><td>1.1697491165037107E-5</td></tr><tr><td>3.641002174256106E-6</td></tr><tr><td>7.81734783671474E-6</td></tr><tr><td>1.0473640878724948E-5</td></tr><tr><td>1.3765500623318682E-5</td></tr><tr><td>7.025545866216017E-6</td></tr><tr><td>1.0916840656879185E-5</td></tr><tr><td>1.2848893467276228E-5</td></tr><tr><td>1.0707272966043399E-5</td></tr><tr><td>1.2809527675829525E-5</td></tr><tr><td>2.1586182662067566E-5</td></tr><tr><td>1.126384113750863E-5</td></tr><tr><td>9.525320263868984E-6</td></tr><tr><td>1.2813501766105552E-5</td></tr><tr><td>1.3491677517531337E-5</td></tr><tr><td>1.2290259947257077E-5</td></tr><tr><td>1.2910001369842162E-5</td></tr><tr><td>1.351260740504309E-5</td></tr><tr><td>1.269446439339122E-5</td></tr><tr><td>1.208988155328668E-5</td></tr><tr><td>1.051937058061946E-5</td></tr><tr><td>1.166925220686152E-5</td></tr><tr><td>1.3406777308197602E-5</td></tr><tr><td>1.1396456019576734E-5</td></tr><tr><td>1.268784851678964E-5</td></tr><tr><td>9.941127817809597E-6</td></tr><tr><td>7.153983494630784E-6</td></tr><tr><td>1.888194457799729E-5</td></tr><tr><td>1.5682743579584336E-5</td></tr><tr><td>3.4942611766594426E-5</td></tr><tr><td>2.6818083587234173E-5</td></tr><tr><td>2.4148546705125357E-5</td></tr><tr><td>2.6682794450909538E-5</td></tr><tr><td>2.1062774485715665E-5</td></tr><tr><td>1.9263405970944953E-5</td></tr><tr><td>1.2368534173950421E-5</td></tr><tr><td>1.057269259363079E-5</td></tr><tr><td>1.043490539395651E-5</td></tr><tr><td>7.131732790083061E-6</td></tr><tr><td>1.060604271047228E-5</td></tr><tr><td>1.2249575856222447E-5</td></tr><tr><td>1.1073106726391898E-5</td></tr><tr><td>7.5364389218090185E-6</td></tr><tr><td>9.325698152496096E-6</td></tr><tr><td>1.0400884657921963E-5</td></tr><tr><td>1.1167564019304478E-5</td></tr><tr><td>1.0632753921064866E-5</td></tr><tr><td>1.2409107779555855E-5</td></tr><tr><td>1.1797827328240239E-5</td></tr><tr><td>1.910557867443804E-5</td></tr><tr><td>1.469313163358525E-5</td></tr><tr><td>1.4861542076539549E-5</td></tr><tr><td>1.344821257742074E-5</td></tr><tr><td>8.497889243399934E-6</td></tr><tr><td>1.2396062333987758E-5</td></tr><tr><td>1.0446067362829722E-5</td></tr><tr><td>9.744410846030697E-6</td></tr><tr><td>1.7160367918598255E-5</td></tr><tr><td>1.5665052691540872E-5</td></tr><tr><td>1.5979986437447307E-5</td></tr><tr><td>1.5249211283822683E-5</td></tr><tr><td>1.4884420734311731E-5</td></tr><tr><td>1.2487034689408783E-5</td></tr><tr><td>1.5393961765231373E-5</td></tr><tr><td>1.6899276812391885E-5</td></tr><tr><td>1.4305369569181296E-5</td></tr><tr><td>4.547697352897012E-6</td></tr><tr><td>6.096644388890495E-6</td></tr><tr><td>1.26084632414121E-5</td></tr><tr><td>1.6318756373011138E-5</td></tr><tr><td>1.2443452352975735E-5</td></tr><tr><td>1.4242285457108404E-5</td></tr><tr><td>1.4319257494810631E-5</td></tr><tr><td>1.3857955951497153E-5</td></tr><tr><td>1.2973625557206537E-5</td></tr><tr><td>1.3389868531153449E-5</td></tr><tr><td>1.3984160566902876E-5</td></tr><tr><td>1.4500086895829697E-5</td></tr><tr><td>1.7840093331906238E-5</td></tr><tr><td>1.3072206113038932E-5</td></tr><tr><td>1.3304874450161502E-5</td></tr><tr><td>1.5714340962149335E-5</td></tr><tr><td>1.7271429171391375E-5</td></tr><tr><td>1.2788575570247427E-5</td></tr><tr><td>1.728654768846314E-5</td></tr><tr><td>8.091842708465417E-6</td></tr><tr><td>1.1429522383507328E-5</td></tr><tr><td>6.751958949641335E-6</td></tr><tr><td>1.289638347910294E-5</td></tr><tr><td>1.5620159914911086E-5</td></tr><tr><td>1.2526520110143095E-5</td></tr><tr><td>9.956212260499322E-6</td></tr><tr><td>1.437366635183825E-5</td></tr><tr><td>1.4521985197397267E-5</td></tr><tr><td>1.4861213200422357E-5</td></tr><tr><td>9.905257081632899E-6</td></tr><tr><td>1.4031092016494986E-5</td></tr><tr><td>1.27462507248421E-5</td></tr><tr><td>1.2305293743661163E-5</td></tr><tr><td>1.2133479170089772E-5</td></tr><tr><td>2.074370450606586E-5</td></tr><tr><td>1.4780212762075069E-5</td></tr><tr><td>1.7223983738106895E-5</td></tr><tr><td>1.4538025923314714E-5</td></tr><tr><td>1.3060448196890522E-5</td></tr><tr><td>9.967436338910307E-6</td></tr><tr><td>6.69469178198058E-6</td></tr><tr><td>8.90976106514761E-6</td></tr><tr><td>1.2715718202638625E-5</td></tr><tr><td>1.035458925303172E-5</td></tr><tr><td>1.0649493365823616E-5</td></tr><tr><td>1.1783977401788056E-5</td></tr><tr><td>1.2381779435021241E-5</td></tr><tr><td>1.6233992320104578E-5</td></tr><tr><td>1.108406969219515E-5</td></tr><tr><td>8.922339158016803E-6</td></tr><tr><td>1.5752945576734603E-5</td></tr><tr><td>1.1927967822227555E-5</td></tr><tr><td>1.3493527683847389E-5</td></tr><tr><td>1.4255214868341818E-5</td></tr><tr><td>1.4145644896264062E-5</td></tr><tr><td>1.4820286494371096E-5</td></tr><tr><td>2.0991214985713903E-5</td></tr><tr><td>9.40703077287253E-6</td></tr><tr><td>9.432147437419846E-6</td></tr><tr><td>1.276619834041036E-5</td></tr><tr><td>1.197636462552137E-5</td></tr><tr><td>9.630977434550559E-6</td></tr><tr><td>3.4890866305112515E-6</td></tr><tr><td>7.2567563721909715E-6</td></tr><tr><td>1.1311091737959208E-5</td></tr><tr><td>1.1207629787234043E-5</td></tr><tr><td>7.171635204660664E-6</td></tr><tr><td>1.0807059008744687E-5</td></tr><tr><td>1.4955726594368719E-5</td></tr><tr><td>1.1745697636115513E-5</td></tr><tr><td>1.32979103790294E-5</td></tr><tr><td>1.29359412190831E-5</td></tr><tr><td>1.2391859108511163E-5</td></tr><tr><td>8.347063610455536E-6</td></tr><tr><td>6.983478951772903E-6</td></tr><tr><td>7.66079412071302E-6</td></tr><tr><td>8.739622582657517E-6</td></tr><tr><td>6.538098218584496E-6</td></tr><tr><td>9.92857115902965E-6</td></tr><tr><td>1.0059890431374714E-5</td></tr><tr><td>9.568113601522441E-6</td></tr><tr><td>1.1677070918334512E-5</td></tr><tr><td>1.2780729325549186E-5</td></tr><tr><td>8.772055846047322E-6</td></tr><tr><td>5.03206038197475E-6</td></tr><tr><td>1.1278218969103938E-5</td></tr><tr><td>9.260693726749871E-6</td></tr><tr><td>9.899978469421128E-6</td></tr><tr><td>1.3721377805486285E-5</td></tr><tr><td>1.0504798486473948E-5</td></tr><tr><td>8.79357092259215E-6</td></tr><tr><td>6.467854196314376E-6</td></tr><tr><td>6.678175683828511E-6</td></tr><tr><td>1.101714185937049E-5</td></tr><tr><td>6.898875527926732E-6</td></tr><tr><td>5.946237591878467E-6</td></tr><tr><td>9.445513541265563E-6</td></tr><tr><td>8.503546854275994E-6</td></tr><tr><td>1.3182657860305056E-5</td></tr><tr><td>1.218013000246528E-5</td></tr><tr><td>1.3426478924286905E-5</td></tr><tr><td>1.6182364070335252E-5</td></tr><tr><td>1.417130168014221E-5</td></tr><tr><td>1.3039115586381719E-5</td></tr><tr><td>1.4440774343243669E-5</td></tr><tr><td>1.1378491406747295E-5</td></tr><tr><td>1.060388416455987E-5</td></tr><tr><td>1.721648780831903E-5</td></tr><tr><td>1.2192703533800473E-5</td></tr><tr><td>1.1560927133083774E-5</td></tr><tr><td>8.42498504474937E-6</td></tr><tr><td>1.470332145676863E-5</td></tr><tr><td>1.5751981539798023E-5</td></tr><tr><td>9.143080318853741E-6</td></tr><tr><td>1.4104212362134145E-5</td></tr><tr><td>1.2394865495283823E-5</td></tr><tr><td>8.4547605498061E-6</td></tr><tr><td>1.152378362674121E-5</td></tr><tr><td>9.3401733889067E-6</td></tr><tr><td>1.1918406670985532E-5</td></tr><tr><td>1.0597142124992678E-5</td></tr><tr><td>8.218155948153008E-6</td></tr><tr><td>9.509434556479014E-6</td></tr><tr><td>1.2279069429175476E-5</td></tr><tr><td>9.498448661301351E-6</td></tr><tr><td>3.30752990851513E-6</td></tr><tr><td>4.2566373239436625E-6</td></tr><tr><td>7.028326588979828E-6</td></tr><tr><td>4.338106753881815E-6</td></tr><tr><td>2.974873828665983E-6</td></tr><tr><td>4.4395648267008985E-6</td></tr><tr><td>4.655988024382013E-6</td></tr><tr><td>4.7567707434880115E-6</td></tr><tr><td>4.622806613997063E-6</td></tr><tr><td>7.950875819551816E-6</td></tr><tr><td>4.8021860697780325E-6</td></tr><tr><td>6.82530027536628E-6</td></tr><tr><td>7.626880264670687E-6</td></tr><tr><td>6.964603245093368E-6</td></tr><tr><td>3.7556193100955564E-6</td></tr><tr><td>7.080366222184654E-6</td></tr><tr><td>4.45100806895792E-6</td></tr><tr><td>8.022425084342131E-6</td></tr><tr><td>9.296074000603736E-6</td></tr><tr><td>9.43038668959888E-6</td></tr><tr><td>1.1513847370853628E-5</td></tr><tr><td>9.153103279079223E-6</td></tr><tr><td>4.984788982708844E-6</td></tr><tr><td>8.989269060059555E-6</td></tr><tr><td>7.251613489682756E-6</td></tr><tr><td>1.0878739407140182E-5</td></tr><tr><td>9.197550386705385E-6</td></tr><tr><td>8.999022616222253E-6</td></tr><tr><td>6.807246976922422E-6</td></tr><tr><td>8.382089370557977E-6</td></tr><tr><td>8.138660767996792E-6</td></tr><tr><td>8.28612284999745E-6</td></tr><tr><td>9.172784161490683E-6</td></tr><tr><td>1.046299350824564E-5</td></tr><tr><td>8.899053691184606E-6</td></tr><tr><td>9.299327494394618E-6</td></tr><tr><td>1.1212653443802828E-5</td></tr><tr><td>9.923008143322476E-6</td></tr><tr><td>1.187122379914598E-5</td></tr><tr><td>7.556669601733948E-6</td></tr><tr><td>8.399455240605156E-7</td></tr><tr><td>1.3073605456884344E-6</td></tr><tr><td>2.2710354990055392E-6</td></tr><tr><td>3.3303754394635454E-6</td></tr><tr><td>5.748134292005222E-6</td></tr><tr><td>4.500823397572727E-6</td></tr><tr><td>4.110086643589129E-6</td></tr><tr><td>4.545803030535404E-6</td></tr><tr><td>5.3921659993726825E-6</td></tr><tr><td>5.521624236543181E-6</td></tr><tr><td>4.87718328305745E-6</td></tr><tr><td>4.52102205281786E-6</td></tr><tr><td>3.6772009110752586E-6</td></tr><tr><td>5.374468337189342E-6</td></tr><tr><td>5.6885674718887446E-6</td></tr><tr><td>5.842986923880078E-6</td></tr><tr><td>6.656509226341628E-6</td></tr><tr><td>5.933469074799796E-6</td></tr><tr><td>6.964124804511634E-6</td></tr><tr><td>7.709884437090441E-6</td></tr><tr><td>6.758420695289934E-6</td></tr><tr><td>6.048264670470607E-6</td></tr><tr><td>4.559365316542681E-6</td></tr><tr><td>4.3560832782848904E-6</td></tr><tr><td>2.46765516039758E-6</td></tr><tr><td>4.104801145338325E-6</td></tr><tr><td>5.3051591288334E-6</td></tr><tr><td>4.9688387451398824E-6</td></tr><tr><td>5.7426493334593926E-6</td></tr><tr><td>4.8514921430234705E-6</td></tr><tr><td>7.763228434055395E-6</td></tr><tr><td>1.1363253197026718E-5</td></tr><tr><td>4.019380897568027E-6</td></tr><tr><td>4.858203472603469E-6</td></tr><tr><td>4.363762226850864E-6</td></tr><tr><td>3.765439501139225E-6</td></tr><tr><td>5.735340431036961E-6</td></tr><tr><td>5.2371959054493394E-6</td></tr><tr><td>5.828900901942645E-6</td></tr><tr><td>6.692497077390694E-6</td></tr><tr><td>5.290916775261509E-6</td></tr><tr><td>6.108773627501283E-6</td></tr><tr><td>4.161130128262501E-6</td></tr><tr><td>4.162732460281621E-6</td></tr><tr><td>6.0890519552231315E-6</td></tr><tr><td>4.649316975054138E-6</td></tr><tr><td>3.6538782163661753E-6</td></tr><tr><td>6.176973925664818E-6</td></tr><tr><td>6.550619017299246E-6</td></tr><tr><td>8.127875608393841E-6</td></tr><tr><td>2.4609311261478974E-5</td></tr><tr><td>1.1245550473098844E-5</td></tr><tr><td>7.832716018062814E-6</td></tr><tr><td>1.0822677243864468E-5</td></tr><tr><td>9.415569709081479E-6</td></tr><tr><td>5.1287827377973505E-6</td></tr><tr><td>4.731352168692781E-6</td></tr><tr><td>3.860642635499801E-6</td></tr><tr><td>2.4680288687097992E-6</td></tr><tr><td>3.6813581796385617E-6</td></tr><tr><td>5.094912279315304E-6</td></tr><tr><td>5.307521626120253E-6</td></tr><tr><td>4.643114740960388E-6</td></tr><tr><td>4.918476292820199E-6</td></tr><tr><td>4.13629177177893E-6</td></tr><tr><td>4.811781125251891E-6</td></tr><tr><td>3.5885568049006567E-6</td></tr><tr><td>5.1938921516725666E-6</td></tr><tr><td>6.877955748844795E-6</td></tr><tr><td>4.9768392158086E-6</td></tr><tr><td>6.828581218489175E-6</td></tr><tr><td>6.3812498164338235E-6</td></tr><tr><td>5.719833840206414E-6</td></tr><tr><td>4.047058476437275E-6</td></tr><tr><td>4.612177833301649E-6</td></tr><tr><td>4.9934119933166E-6</td></tr><tr><td>5.480853551593101E-6</td></tr><tr><td>5.185687580843736E-6</td></tr><tr><td>4.756806184622971E-6</td></tr><tr><td>3.237143118841474E-6</td></tr><tr><td>4.535458941157187E-6</td></tr><tr><td>6.858372488232931E-6</td></tr><tr><td>5.8784093611163255E-6</td></tr><tr><td>6.833066886700015E-6</td></tr><tr><td>5.880023150389508E-6</td></tr><tr><td>5.3602324832819656E-6</td></tr><tr><td>2.3223132434234585E-6</td></tr><tr><td>4.161981005378383E-6</td></tr><tr><td>6.247107288921633E-6</td></tr><tr><td>5.825752099370189E-6</td></tr><tr><td>6.542483092350746E-6</td></tr><tr><td>7.110725788776054E-6</td></tr><tr><td>6.208861465910435E-6</td></tr><tr><td>7.164105316098103E-6</td></tr><tr><td>6.413538424660818E-6</td></tr><tr><td>7.273937112682204E-6</td></tr><tr><td>5.588006634703042E-6</td></tr><tr><td>6.720942909944559E-6</td></tr><tr><td>5.339404852870085E-6</td></tr><tr><td>6.800822515122319E-6</td></tr><tr><td>8.689039719865044E-6</td></tr><tr><td>6.653758238964189E-6</td></tr><tr><td>8.194526770314443E-6</td></tr><tr><td>1.008119150837989E-5</td></tr><tr><td>9.032760839974098E-6</td></tr><tr><td>8.315891457775614E-6</td></tr><tr><td>5.821880031423962E-6</td></tr><tr><td>2.938267402637228E-6</td></tr><tr><td>7.262260986851888E-6</td></tr><tr><td>9.139663317586002E-6</td></tr><tr><td>1.114456812751612E-5</td></tr><tr><td>1.0791949022158073E-5</td></tr><tr><td>1.2238779691264388E-5</td></tr><tr><td>1.050839608688954E-5</td></tr><tr><td>9.57203301657765E-6</td></tr><tr><td>1.1011379326808308E-5</td></tr><tr><td>1.0481036744214225E-5</td></tr><tr><td>1.0166486355775713E-5</td></tr><tr><td>1.198304204879737E-5</td></tr><tr><td>1.2877841012922593E-5</td></tr><tr><td>1.1280582603714918E-5</td></tr><tr><td>1.0495702731737263E-5</td></tr><tr><td>8.69250171637806E-6</td></tr><tr><td>8.904145398598506E-6</td></tr><tr><td>1.1084675619141905E-5</td></tr><tr><td>9.92389359476E-6</td></tr><tr><td>9.15155962818907E-6</td></tr><tr><td>1.0565136863106665E-5</td></tr><tr><td>8.546967095153304E-6</td></tr><tr><td>1.2931177459584295E-5</td></tr><tr><td>1.0529497098646036E-5</td></tr><tr><td>1.1092339946259917E-5</td></tr><tr><td>1.1787252806892574E-5</td></tr><tr><td>1.0512303561759221E-5</td></tr><tr><td>1.3556621724010647E-5</td></tr><tr><td>1.4574306139965249E-5</td></tr><tr><td>5.688073394495412E-6</td></tr><tr><td>8.896539548208208E-6</td></tr><tr><td>1.1427894220025056E-5</td></tr><tr><td>1.1193299278547143E-5</td></tr><tr><td>8.311704362872328E-6</td></tr><tr><td>6.9734182620599475E-6</td></tr><tr><td>7.982717358656224E-6</td></tr><tr><td>1.0796669790251292E-5</td></tr><tr><td>4.624079465661928E-6</td></tr><tr><td>7.03309414171081E-6</td></tr><tr><td>4.8418665376472384E-6</td></tr><tr><td>6.516529297373745E-6</td></tr><tr><td>7.1622334021420775E-6</td></tr><tr><td>2.865756900417417E-6</td></tr><tr><td>1.9765257849227547E-6</td></tr><tr><td>4.188312791850286E-6</td></tr><tr><td>6.936770827145091E-6</td></tr><tr><td>7.976891481649299E-6</td></tr><tr><td>9.774363633860599E-6</td></tr><tr><td>8.21035404133933E-6</td></tr><tr><td>1.2301311688762407E-5</td></tr><tr><td>8.462253581559439E-6</td></tr><tr><td>9.820106080959437E-6</td></tr><tr><td>1.0908476347043188E-5</td></tr><tr><td>1.116506427179584E-5</td></tr><tr><td>7.934132069194943E-6</td></tr><tr><td>9.684384659260667E-6</td></tr><tr><td>1.1638702883205733E-5</td></tr><tr><td>1.1794262837938022E-5</td></tr><tr><td>9.50688340389275E-6</td></tr><tr><td>9.001466943193891E-6</td></tr><tr><td>7.849863010676786E-6</td></tr><tr><td>8.932269053261819E-6</td></tr><tr><td>1.065740007755175E-5</td></tr><tr><td>3.948657921403376E-6</td></tr><tr><td>1.0049702345117256E-5</td></tr><tr><td>1.0744891382513333E-5</td></tr><tr><td>8.542713567839196E-6</td></tr><tr><td>1.0364121259074345E-5</td></tr><tr><td>4.809396642945953E-6</td></tr><tr><td>6.349416724171488E-6</td></tr><tr><td>8.394851539503808E-6</td></tr><tr><td>1.033401257359545E-5</td></tr><tr><td>8.399513633859715E-6</td></tr><tr><td>9.57872938157826E-6</td></tr><tr><td>6.849264369313213E-6</td></tr><tr><td>6.687336997297224E-6</td></tr><tr><td>9.486962324196696E-6</td></tr><tr><td>8.090845129059117E-6</td></tr><tr><td>8.224466322275195E-6</td></tr><tr><td>5.9646315082678055E-6</td></tr><tr><td>1.1506484919518675E-5</td></tr><tr><td>1.1150397357968224E-5</td></tr><tr><td>1.2345699939947955E-5</td></tr><tr><td>1.3592802301504408E-5</td></tr><tr><td>1.5414434672057688E-5</td></tr><tr><td>1.4030670390003785E-5</td></tr><tr><td>1.6771785332088618E-5</td></tr><tr><td>1.7122273085298616E-5</td></tr><tr><td>1.5595691170257708E-5</td></tr><tr><td>1.4113141398167025E-5</td></tr><tr><td>1.2776268194326657E-5</td></tr><tr><td>1.5928050052137643E-5</td></tr><tr><td>1.1622925327663356E-5</td></tr><tr><td>1.2608206325403858E-5</td></tr><tr><td>1.1318727027068523E-5</td></tr><tr><td>1.1175226016656263E-5</td></tr><tr><td>1.4861776375659771E-5</td></tr><tr><td>1.3655500424714702E-5</td></tr><tr><td>1.1261631089217295E-5</td></tr><tr><td>1.1493644425084398E-5</td></tr><tr><td>9.253257081827553E-6</td></tr><tr><td>1.1891325215013594E-5</td></tr><tr><td>7.41630175501791E-6</td></tr><tr><td>7.680493353120038E-6</td></tr><tr><td>7.508731473989327E-6</td></tr><tr><td>5.0859981315317954E-6</td></tr><tr><td>2.7995071169805986E-6</td></tr><tr><td>4.840874797998228E-6</td></tr><tr><td>7.092638647802097E-6</td></tr><tr><td>7.780522605788273E-6</td></tr><tr><td>7.238301809824192E-6</td></tr><tr><td>6.903045595480397E-6</td></tr><tr><td>7.141505404193854E-6</td></tr><tr><td>9.59547997482626E-6</td></tr><tr><td>1.242769595788161E-5</td></tr><tr><td>1.1350529025920528E-5</td></tr><tr><td>6.194840835274712E-6</td></tr><tr><td>9.054918655433076E-6</td></tr><tr><td>7.635645759541943E-6</td></tr><tr><td>7.594897539066155E-6</td></tr><tr><td>7.485612553306007E-6</td></tr><tr><td>5.874669503639321E-6</td></tr><tr><td>6.649484351988218E-6</td></tr><tr><td>9.577911799571118E-6</td></tr><tr><td>1.0323042475467372E-5</td></tr><tr><td>9.945720434234332E-6</td></tr><tr><td>5.2354742854682575E-6</td></tr><tr><td>1.0529282153539382E-5</td></tr><tr><td>1.2274558082089806E-5</td></tr><tr><td>1.0865950808130739E-5</td></tr><tr><td>1.235375278870553E-5</td></tr><tr><td>9.455069513019075E-6</td></tr><tr><td>1.215895943651554E-5</td></tr><tr><td>1.1425824033793581E-5</td></tr><tr><td>1.1692994227877572E-5</td></tr><tr><td>8.967336809723888E-6</td></tr><tr><td>7.258629916053933E-6</td></tr><tr><td>1.231712139576967E-5</td></tr><tr><td>1.1046839084834E-5</td></tr><tr><td>1.1179691386671617E-5</td></tr><tr><td>3.5638452932079584E-6</td></tr><tr><td>5.490050498664433E-6</td></tr><tr><td>7.672110609229673E-6</td></tr><tr><td>7.910143630332305E-6</td></tr><tr><td>7.595602581453354E-6</td></tr><tr><td>7.455024146707564E-6</td></tr><tr><td>1.0724750311720697E-5</td></tr><tr><td>9.161395628152774E-6</td></tr><tr><td>8.778650622955827E-6</td></tr><tr><td>9.734251821487232E-6</td></tr><tr><td>1.0975532570702254E-5</td></tr><tr><td>8.748692986258063E-6</td></tr><tr><td>9.683679016137137E-6</td></tr><tr><td>9.157634376187793E-6</td></tr><tr><td>1.3822393426393425E-5</td></tr><tr><td>9.815469179426777E-6</td></tr><tr><td>1.0097944598656676E-5</td></tr><tr><td>1.0982939114102364E-5</td></tr><tr><td>7.926594483289208E-6</td></tr><tr><td>9.152028174172368E-6</td></tr><tr><td>1.0299975308279074E-5</td></tr><tr><td>9.630823315569877E-6</td></tr><tr><td>7.159111466469852E-6</td></tr><tr><td>9.190033327647515E-6</td></tr><tr><td>4.261152000953544E-6</td></tr><tr><td>5.0337606222898755E-6</td></tr><tr><td>8.667420445287517E-6</td></tr><tr><td>5.520417882717244E-6</td></tr><tr><td>7.343883147731129E-6</td></tr><tr><td>6.4382972374111E-6</td></tr><tr><td>2.9658322205773817E-6</td></tr><tr><td>6.232432175154689E-6</td></tr><tr><td>8.305409526089038E-6</td></tr><tr><td>6.411143299344502E-6</td></tr><tr><td>9.581153820162457E-6</td></tr><tr><td>1.6920933780464766E-5</td></tr><tr><td>1.0074374154834348E-5</td></tr><tr><td>9.820659224908005E-6</td></tr><tr><td>7.63019954750646E-6</td></tr><tr><td>1.0325849367864755E-5</td></tr><tr><td>1.0630487099577477E-5</td></tr><tr><td>6.743034983235023E-6</td></tr><tr><td>9.04988416045256E-6</td></tr><tr><td>1.014182796933766E-5</td></tr><tr><td>1.0359136495134567E-5</td></tr><tr><td>6.547547110173195E-6</td></tr><tr><td>7.901718276989466E-6</td></tr><tr><td>8.127145203938116E-6</td></tr><tr><td>8.360440514914527E-6</td></tr><tr><td>1.0061236635231142E-5</td></tr><tr><td>4.014614845781404E-6</td></tr><tr><td>1.218311174502912E-5</td></tr><tr><td>1.1776166074556737E-5</td></tr><tr><td>1.4114879435404822E-5</td></tr><tr><td>5.884296263257013E-6</td></tr><tr><td>1.4519452944482608E-5</td></tr><tr><td>1.5740469373492346E-5</td></tr><tr><td>1.435691285353898E-5</td></tr><tr><td>1.6173459194118743E-5</td></tr><tr><td>1.0077654401625664E-5</td></tr></tbody></table></div>"
      ]
     },
     "metadata": {
      "application/vnd.databricks.v1+output": {
       "addedWidgets": {},
       "aggData": [],
       "aggError": "",
       "aggOverflow": false,
       "aggSchema": [],
       "aggSeriesLimitReached": false,
       "aggType": "",
       "arguments": {},
       "columnCustomDisplayInfos": {},
       "data": [
        [
         4.819714653321546E-6
        ],
        [
         6.290848613094555E-6
        ],
        [
         4.669412994783916E-6
        ],
        [
         7.367338463826307E-6
        ],
        [
         8.915604778943901E-6
        ],
        [
         8.644477436914568E-6
        ],
        [
         9.351828421515645E-6
        ],
        [
         8.29141562102703E-6
        ],
        [
         7.712212102001474E-6
        ],
        [
         7.0717648235294114E-6
        ],
        [
         1.015495466386981E-5
        ],
        [
         6.5763541463625925E-6
        ],
        [
         5.90145296180676E-6
        ],
        [
         8.547679455011844E-6
        ],
        [
         8.420709512685392E-6
        ],
        [
         1.0414483417289293E-5
        ],
        [
         8.316075414862431E-6
        ],
        [
         9.721183814992126E-6
        ],
        [
         8.029436027707578E-6
        ],
        [
         6.307432259386365E-6
        ],
        [
         5.162976357311263E-6
        ],
        [
         1.0057476051712203E-5
        ],
        [
         8.079252510611865E-6
        ],
        [
         1.1308980768528993E-5
        ],
        [
         1.017355893761094E-5
        ],
        [
         8.542699724517906E-6
        ],
        [
         9.632579690381367E-6
        ],
        [
         1.1254317396836938E-5
        ],
        [
         1.4869461556886228E-5
        ],
        [
         1.2031470878196825E-5
        ],
        [
         1.0703327048014125E-5
        ],
        [
         8.570365332671849E-6
        ],
        [
         7.638125930808858E-6
        ],
        [
         2.5319316336608802E-6
        ],
        [
         2.092196421960028E-6
        ],
        [
         3.958253664240641E-6
        ],
        [
         5.939008150394423E-6
        ],
        [
         4.7949227493718795E-6
        ],
        [
         5.491595164422639E-6
        ],
        [
         5.166138587997632E-6
        ],
        [
         3.64900288014542E-6
        ],
        [
         6.019435119464668E-6
        ],
        [
         6.174489690187545E-6
        ],
        [
         6.538516854180698E-6
        ],
        [
         4.012898189302067E-6
        ],
        [
         7.690235645748885E-6
        ],
        [
         9.566336824039791E-6
        ],
        [
         8.037694277267448E-6
        ],
        [
         6.992879124401804E-6
        ],
        [
         9.592157176470589E-6
        ],
        [
         9.068837601776463E-6
        ],
        [
         5.089798130345861E-6
        ],
        [
         7.377694955101249E-6
        ],
        [
         7.692599507046704E-6
        ],
        [
         8.31461918716109E-6
        ],
        [
         1.0641241157105836E-5
        ],
        [
         8.745705908561738E-6
        ],
        [
         9.866769646649933E-6
        ],
        [
         8.365525871919038E-6
        ],
        [
         8.6299831555306E-6
        ],
        [
         9.108298489173155E-6
        ],
        [
         8.848358832512173E-6
        ],
        [
         9.509890657139764E-6
        ],
        [
         5.4927952343896746E-6
        ],
        [
         5.583456969875688E-6
        ],
        [
         9.295878046165393E-6
        ],
        [
         8.83235505071944E-6
        ],
        [
         6.3215080968481435E-6
        ],
        [
         7.781664364908296E-6
        ],
        [
         8.170799706828454E-6
        ],
        [
         8.99650345157338E-6
        ],
        [
         8.884376150542033E-6
        ],
        [
         5.802517796260912E-6
        ],
        [
         7.82300529073932E-6
        ],
        [
         9.726314972725563E-6
        ],
        [
         6.945108416595352E-6
        ],
        [
         1.584958731612085E-6
        ],
        [
         1.9723766890656882E-6
        ],
        [
         2.0859066536245438E-6
        ],
        [
         2.368399029207465E-6
        ],
        [
         6.586249183087983E-6
        ],
        [
         7.883623606767701E-6
        ],
        [
         5.977389392579445E-6
        ],
        [
         8.073274630156375E-6
        ],
        [
         8.589793961026712E-6
        ],
        [
         8.521851825185399E-6
        ],
        [
         6.855928599477951E-6
        ],
        [
         5.779058238346003E-6
        ],
        [
         5.309385710188571E-6
        ],
        [
         7.700854057126616E-6
        ],
        [
         7.981428227360309E-6
        ],
        [
         9.603289630704725E-6
        ],
        [
         5.647925653795898E-6
        ],
        [
         5.504654874931953E-6
        ],
        [
         2.133659242670454E-6
        ],
        [
         3.7659269303156213E-6
        ],
        [
         5.65924340128611E-6
        ],
        [
         5.2963295070562515E-6
        ],
        [
         4.1250591116042395E-6
        ],
        [
         5.766763693630726E-6
        ],
        [
         6.434247880627511E-6
        ],
        [
         6.551823969552352E-6
        ],
        [
         6.608414782007475E-6
        ],
        [
         3.976022427007843E-6
        ],
        [
         4.305685164731026E-6
        ],
        [
         4.765507681886314E-6
        ],
        [
         7.054919387645863E-6
        ],
        [
         6.081922115996275E-6
        ],
        [
         5.2667236803302855E-6
        ],
        [
         3.787904189289719E-6
        ],
        [
         6.527251177154621E-6
        ],
        [
         7.549121920826009E-6
        ],
        [
         6.302970536520016E-6
        ],
        [
         6.7827984671415995E-6
        ],
        [
         5.341390519541673E-6
        ],
        [
         9.039517971801153E-6
        ],
        [
         8.63268403743992E-6
        ],
        [
         7.6241964226122944E-6
        ],
        [
         6.975090820431549E-6
        ],
        [
         5.995245730525318E-6
        ],
        [
         5.767247899514817E-6
        ],
        [
         6.3745165467359744E-6
        ],
        [
         7.814453613403352E-6
        ],
        [
         7.967686048680406E-6
        ],
        [
         6.5382524335577766E-6
        ],
        [
         6.709703123201473E-6
        ],
        [
         7.532970398203242E-6
        ],
        [
         5.7312811382179175E-6
        ],
        [
         8.909753908005793E-6
        ],
        [
         6.435643743722199E-6
        ],
        [
         5.445596704731321E-6
        ],
        [
         5.916415684544958E-6
        ],
        [
         7.122540948233586E-6
        ],
        [
         8.953435532572952E-6
        ],
        [
         9.056258198648617E-6
        ],
        [
         6.0034655847835545E-6
        ],
        [
         7.736621941843687E-6
        ],
        [
         4.3168622467116955E-6
        ],
        [
         6.558993666304741E-6
        ],
        [
         1.0814992563659581E-5
        ],
        [
         9.663308854020359E-6
        ],
        [
         1.0378263653160313E-5
        ],
        [
         9.02665848835506E-6
        ],
        [
         6.886710214979515E-6
        ],
        [
         8.226906709237228E-6
        ],
        [
         9.008879477105335E-6
        ],
        [
         7.711104340653675E-6
        ],
        [
         9.163475101939949E-6
        ],
        [
         8.576658924485125E-6
        ],
        [
         1.2246832529628116E-5
        ],
        [
         9.797097379998687E-6
        ],
        [
         1.1326634844868735E-5
        ],
        [
         1.4101083694438664E-5
        ],
        [
         1.3155097267991921E-5
        ],
        [
         1.169496936994128E-5
        ],
        [
         1.0255453880143608E-5
        ],
        [
         9.58530523255814E-6
        ],
        [
         4.084050030314598E-6
        ],
        [
         7.466949018479903E-6
        ],
        [
         1.3049904301908556E-5
        ],
        [
         9.475779518482617E-6
        ],
        [
         1.0786668368112896E-5
        ],
        [
         1.1979817488468137E-5
        ],
        [
         1.3911099400782257E-5
        ],
        [
         1.2622032807921067E-5
        ],
        [
         1.5076616625541708E-5
        ],
        [
         1.7259146497116384E-5
        ],
        [
         1.3891010463606508E-5
        ],
        [
         1.2395710693106318E-5
        ],
        [
         8.662497624382633E-6
        ],
        [
         9.28541793799676E-6
        ],
        [
         1.149419958515787E-5
        ],
        [
         1.1296705077476062E-5
        ],
        [
         1.1402901955354533E-5
        ],
        [
         1.406433042295045E-5
        ],
        [
         1.72995481409093E-5
        ],
        [
         1.0150660420660422E-5
        ],
        [
         8.785453799922678E-6
        ],
        [
         1.0894873515595368E-5
        ],
        [
         1.398352180388756E-5
        ],
        [
         1.3195070103785429E-5
        ],
        [
         1.6541386628935264E-5
        ],
        [
         7.109246660291793E-6
        ],
        [
         1.6983483018782428E-5
        ],
        [
         1.1681479757809704E-5
        ],
        [
         1.557576557264459E-5
        ],
        [
         1.3821635962227045E-5
        ],
        [
         1.2300282012954658E-5
        ],
        [
         1.5977092422195053E-5
        ],
        [
         1.755222494984067E-5
        ],
        [
         9.155265962007178E-6
        ],
        [
         1.4999300525905337E-5
        ],
        [
         1.4505004706922058E-5
        ],
        [
         1.661937196154777E-5
        ],
        [
         9.073946649332515E-6
        ],
        [
         3.96647515078906E-6
        ],
        [
         9.201849858867335E-6
        ],
        [
         9.470315095961043E-6
        ],
        [
         7.999296558285762E-6
        ],
        [
         1.2297744568231883E-5
        ],
        [
         1.0340916672226299E-5
        ],
        [
         1.054233766056486E-5
        ],
        [
         1.104933366942744E-5
        ],
        [
         1.3967633538540937E-5
        ],
        [
         1.293988549683745E-5
        ],
        [
         1.6364112410542854E-5
        ],
        [
         1.7031739944505855E-5
        ],
        [
         1.6960129078684028E-5
        ],
        [
         1.1552082061301748E-5
        ],
        [
         5.80673104854909E-6
        ],
        [
         8.591113446604776E-6
        ],
        [
         1.535331438639176E-5
        ],
        [
         1.3924714869526096E-5
        ],
        [
         1.0851848338448436E-5
        ],
        [
         1.0365555057376245E-5
        ],
        [
         1.053486925733523E-5
        ],
        [
         1.656475266952633E-5
        ],
        [
         8.053557043241919E-6
        ],
        [
         7.902275196733726E-6
        ],
        [
         3.0235717105805486E-6
        ],
        [
         5.604099012001208E-6
        ],
        [
         5.385759794946906E-6
        ],
        [
         7.370191173652949E-6
        ],
        [
         9.810216205466219E-6
        ],
        [
         1.367894175154336E-5
        ],
        [
         7.740378587488426E-6
        ],
        [
         9.505167495225066E-6
        ],
        [
         6.7461222895468914E-6
        ],
        [
         7.384231692739463E-6
        ],
        [
         5.776439544420594E-6
        ],
        [
         7.960997931064842E-6
        ],
        [
         5.662805506805507E-6
        ],
        [
         7.5705332590505825E-6
        ],
        [
         1.0026373899331574E-5
        ],
        [
         9.96704599752849E-6
        ],
        [
         1.2257692151281009E-5
        ],
        [
         4.981157725248373E-6
        ],
        [
         3.0061660805319226E-6
        ],
        [
         4.869589707585916E-6
        ],
        [
         6.59855488797692E-6
        ],
        [
         6.6000742520200915E-6
        ],
        [
         6.010457816355761E-6
        ],
        [
         6.9686760518188745E-6
        ],
        [
         7.129657144626947E-6
        ],
        [
         5.227118433980803E-6
        ],
        [
         2.3688377168824013E-5
        ],
        [
         1.1267212985606198E-5
        ],
        [
         9.265729259770862E-6
        ],
        [
         1.239706859651032E-5
        ],
        [
         9.739750873440286E-6
        ],
        [
         6.663586826808331E-6
        ],
        [
         7.78330187091054E-6
        ],
        [
         1.0745573159366264E-5
        ],
        [
         1.1113619182765183E-5
        ],
        [
         1.1742146448720791E-5
        ],
        [
         1.3591944730178824E-5
        ],
        [
         6.0268207057919645E-6
        ],
        [
         1.1051490240179935E-5
        ],
        [
         1.2507285079411338E-5
        ],
        [
         1.1276138036609993E-5
        ],
        [
         1.4105614794932795E-5
        ],
        [
         9.584381826728977E-6
        ],
        [
         8.856579338060255E-6
        ],
        [
         1.211746933662729E-5
        ],
        [
         1.0940396361579792E-5
        ],
        [
         7.658386913229019E-6
        ],
        [
         8.78547134053742E-6
        ],
        [
         9.851448659069003E-6
        ],
        [
         7.342404689935048E-6
        ],
        [
         9.98775076204313E-6
        ],
        [
         1.0039622872780138E-5
        ],
        [
         1.0936773388322119E-5
        ],
        [
         6.496705361872985E-6
        ],
        [
         6.75217329343024E-6
        ],
        [
         7.309024575211625E-6
        ],
        [
         8.624155701886384E-6
        ],
        [
         1.2128804896217791E-5
        ],
        [
         1.1529036533066778E-5
        ],
        [
         1.504829987400252E-5
        ],
        [
         1.806682381696316E-5
        ],
        [
         1.0442750769681864E-5
        ],
        [
         2.7254640102477445E-6
        ],
        [
         4.730185120859811E-6
        ],
        [
         5.833667234582749E-6
        ],
        [
         3.5011831128050123E-6
        ],
        [
         7.696504277047964E-6
        ],
        [
         6.03675839425941E-6
        ],
        [
         6.76195337955596E-6
        ],
        [
         8.159655176323846E-6
        ],
        [
         3.8064774195598297E-6
        ],
        [
         8.07656470799681E-6
        ],
        [
         6.932773298508593E-6
        ],
        [
         8.098884379785605E-6
        ],
        [
         1.0368411799261498E-5
        ],
        [
         1.101946122754491E-5
        ],
        [
         1.2775475925216726E-5
        ],
        [
         1.4224949598927885E-5
        ],
        [
         9.063703730958863E-6
        ],
        [
         1.3931393890463941E-5
        ],
        [
         1.1647673613297236E-5
        ],
        [
         4.2744735418811175E-6
        ],
        [
         1.2602669034829318E-5
        ],
        [
         1.2666875782227784E-5
        ],
        [
         1.1610207901523663E-5
        ],
        [
         1.3341929104545371E-5
        ],
        [
         1.0143641415658538E-5
        ],
        [
         7.195340511749547E-6
        ],
        [
         1.130464831988438E-5
        ],
        [
         1.2555482806559134E-5
        ],
        [
         1.0174667290962637E-5
        ],
        [
         9.02274401692136E-6
        ],
        [
         1.1448486029987356E-5
        ],
        [
         1.0287232187177183E-5
        ],
        [
         1.0199515463093684E-5
        ],
        [
         1.2994235668248218E-5
        ],
        [
         9.59121212121212E-6
        ],
        [
         9.049700573247673E-6
        ],
        [
         9.115013024770322E-6
        ],
        [
         1.0992972885778008E-5
        ],
        [
         1.2443188675672263E-5
        ],
        [
         9.277397343631152E-6
        ],
        [
         1.150501882002801E-5
        ],
        [
         1.0908313329470518E-5
        ],
        [
         5.559502000858013E-6
        ],
        [
         1.0004464256106116E-5
        ],
        [
         1.5216590428524317E-5
        ],
        [
         1.1906336569676566E-5
        ],
        [
         9.834727101786333E-6
        ],
        [
         1.3759578642369656E-5
        ],
        [
         1.3361807346883652E-5
        ],
        [
         1.2871946465696465E-5
        ],
        [
         9.829521579753446E-6
        ],
        [
         1.2564893695190326E-5
        ],
        [
         1.7366580670855826E-5
        ],
        [
         1.4157491122570975E-5
        ],
        [
         1.6472106873088207E-5
        ],
        [
         1.2043645508362376E-5
        ],
        [
         9.822064556408816E-6
        ],
        [
         1.2116375982077092E-5
        ],
        [
         1.3532378241185348E-5
        ],
        [
         1.0233474895967022E-5
        ],
        [
         7.87521106084664E-6
        ],
        [
         9.993625751459174E-6
        ],
        [
         6.501987121349537E-6
        ],
        [
         7.365993645318812E-6
        ],
        [
         1.3954071937806757E-5
        ],
        [
         1.0445866680918724E-5
        ],
        [
         8.614485511498898E-6
        ],
        [
         9.559901841405532E-6
        ],
        [
         1.019948403077896E-5
        ],
        [
         1.2879588229469237E-5
        ],
        [
         1.3098618397565579E-5
        ],
        [
         1.228965976236352E-5
        ],
        [
         7.760345280482674E-6
        ],
        [
         8.980510988685505E-6
        ],
        [
         8.17422913099315E-6
        ],
        [
         1.1204378042663676E-5
        ],
        [
         8.035988795874845E-6
        ],
        [
         9.209076456775924E-6
        ],
        [
         1.138676401990641E-5
        ],
        [
         1.2624867141715502E-5
        ],
        [
         1.6002620743590285E-5
        ],
        [
         1.040541501484909E-5
        ],
        [
         1.1850743446429978E-5
        ],
        [
         1.1642440051847051E-5
        ],
        [
         1.1258660919625504E-5
        ],
        [
         9.11983275503956E-6
        ],
        [
         8.23180524162872E-6
        ],
        [
         5.094579079268083E-6
        ],
        [
         7.712456147587474E-6
        ],
        [
         1.0356341267422206E-5
        ],
        [
         1.3722984813084114E-5
        ],
        [
         1.0738169954005474E-5
        ],
        [
         5.200607906078374E-6
        ],
        [
         1.1239679143586605E-5
        ],
        [
         1.1251189343482399E-5
        ],
        [
         3.242963348299085E-5
        ],
        [
         1.3824648138283215E-5
        ],
        [
         1.1435337831799088E-5
        ],
        [
         1.4685858792740515E-5
        ],
        [
         1.5065217813891104E-5
        ],
        [
         1.6610763347362573E-5
        ],
        [
         1.7423783116853983E-5
        ],
        [
         1.5816828245211983E-5
        ],
        [
         1.6452119338941284E-5
        ],
        [
         1.4536654831536263E-5
        ],
        [
         1.8687198004771202E-5
        ],
        [
         1.1451969410627172E-5
        ],
        [
         1.881823866095907E-5
        ],
        [
         1.4968873764967922E-5
        ],
        [
         1.596146085192698E-5
        ],
        [
         1.325293047532178E-5
        ],
        [
         1.4587500514105177E-5
        ],
        [
         2.258297258297258E-5
        ],
        [
         1.728389637602841E-5
        ],
        [
         1.2991657230830353E-5
        ],
        [
         1.5220461237835435E-5
        ],
        [
         1.2859452309802576E-5
        ],
        [
         2.0224776631422646E-5
        ],
        [
         1.172529063260159E-5
        ],
        [
         1.3339175043387117E-5
        ],
        [
         1.7406753301897334E-5
        ],
        [
         1.3412899420601602E-5
        ],
        [
         1.3373077414895456E-5
        ],
        [
         1.2106252938410907E-5
        ],
        [
         1.132241477397692E-5
        ],
        [
         5.678629656241727E-6
        ],
        [
         1.0269487904059549E-5
        ],
        [
         1.3780312773770249E-5
        ],
        [
         1.1048911617715477E-5
        ],
        [
         9.176889661917083E-6
        ],
        [
         1.875411638040229E-5
        ],
        [
         1.347253429787545E-5
        ],
        [
         1.3789686249579298E-5
        ],
        [
         1.2632179314396295E-5
        ],
        [
         1.2990764361872837E-5
        ],
        [
         1.782691575754611E-5
        ],
        [
         1.2045432066202893E-5
        ],
        [
         1.0280844208467235E-5
        ],
        [
         1.5665774611676485E-5
        ],
        [
         1.5699178079265035E-5
        ],
        [
         1.2635142827536182E-5
        ],
        [
         1.3335144305630998E-5
        ],
        [
         1.084101485690912E-5
        ],
        [
         1.3913564601371866E-5
        ],
        [
         1.4162453342962485E-5
        ],
        [
         1.8505621828673764E-5
        ],
        [
         1.7899824310812743E-5
        ],
        [
         1.7584696630784284E-5
        ],
        [
         1.1120798494558031E-5
        ],
        [
         1.0764469934594557E-5
        ],
        [
         8.640760997332609E-6
        ],
        [
         1.3636769140185916E-5
        ],
        [
         1.116105239425147E-5
        ],
        [
         5.0720331545587526E-6
        ],
        [
         1.4765365589492133E-5
        ],
        [
         1.766715678830731E-5
        ],
        [
         1.1047759792669382E-5
        ],
        [
         1.3019117082195402E-5
        ],
        [
         9.99444164260246E-6
        ],
        [
         1.024151749401081E-5
        ],
        [
         1.2766845346834387E-5
        ],
        [
         1.0516379821096655E-5
        ],
        [
         7.934563647796016E-6
        ],
        [
         1.133995052107493E-5
        ],
        [
         9.748444441551001E-6
        ],
        [
         1.1460822459106781E-5
        ],
        [
         1.2654132621951218E-5
        ],
        [
         8.380683731222131E-6
        ],
        [
         1.2785527601656944E-5
        ],
        [
         1.1902863598692748E-5
        ],
        [
         1.118509243573691E-5
        ],
        [
         1.4134710389440912E-5
        ],
        [
         1.1008130963517305E-5
        ],
        [
         1.3006592391952436E-5
        ],
        [
         1.3046740787476766E-5
        ],
        [
         1.188456090914721E-5
        ],
        [
         1.0979181929355554E-5
        ],
        [
         1.0437506319242767E-5
        ],
        [
         1.6687472879896686E-5
        ],
        [
         1.6726650333882577E-5
        ],
        [
         1.51287117140009E-5
        ],
        [
         1.6506877404817076E-5
        ],
        [
         1.526103647625602E-5
        ],
        [
         1.6209723970844032E-5
        ],
        [
         9.370358066989314E-6
        ],
        [
         1.3455762884462702E-5
        ],
        [
         1.06127105563385E-5
        ],
        [
         1.4995917472133076E-5
        ],
        [
         9.532141624530875E-6
        ],
        [
         8.549682222293891E-6
        ],
        [
         1.3413747187494714E-5
        ],
        [
         1.330269844198098E-5
        ],
        [
         1.781144736251403E-5
        ],
        [
         1.7598031387848294E-5
        ],
        [
         2.0619629523561572E-5
        ],
        [
         1.6597743812472725E-5
        ],
        [
         1.420887415349887E-5
        ],
        [
         1.4568962403842682E-5
        ],
        [
         1.682837138761349E-5
        ],
        [
         2.3598862265026687E-5
        ],
        [
         1.315550935517286E-5
        ],
        [
         1.0834754609399977E-5
        ],
        [
         1.0648851358425378E-5
        ],
        [
         1.2367441395348839E-5
        ],
        [
         1.5768165523476346E-5
        ],
        [
         1.7906759283996795E-5
        ],
        [
         1.2695483876099719E-5
        ],
        [
         1.3289324698272988E-5
        ],
        [
         1.3925785719305643E-5
        ],
        [
         1.581345800208785E-5
        ],
        [
         1.2770664887992321E-5
        ],
        [
         1.3509903736080758E-5
        ],
        [
         7.333289729821228E-6
        ],
        [
         1.3068811834637472E-5
        ],
        [
         8.138951279157262E-6
        ],
        [
         1.736236291992253E-5
        ],
        [
         3.734784381116044E-5
        ],
        [
         2.826290295875027E-5
        ],
        [
         2.5878688524590165E-5
        ],
        [
         2.5556454560181437E-5
        ],
        [
         2.043740846311316E-5
        ],
        [
         1.155423102646118E-5
        ],
        [
         1.5961995602533587E-5
        ],
        [
         1.0838988489327216E-5
        ],
        [
         1.5731300600522713E-5
        ],
        [
         1.3183436660397637E-5
        ],
        [
         1.3251525784696516E-5
        ],
        [
         1.5193098450195895E-5
        ],
        [
         1.2661784212150246E-5
        ],
        [
         1.9079301404040897E-5
        ],
        [
         1.564377814277702E-5
        ],
        [
         1.0757481219190446E-5
        ],
        [
         6.71462410516839E-6
        ],
        [
         8.515120665247294E-6
        ],
        [
         1.2996908280233013E-5
        ],
        [
         1.2506868288297287E-5
        ],
        [
         8.049031694668266E-6
        ],
        [
         8.182688723359777E-6
        ],
        [
         1.251784739515888E-5
        ],
        [
         8.936765950887511E-6
        ],
        [
         1.115269735180977E-5
        ],
        [
         7.130528981109173E-6
        ],
        [
         7.14237778864314E-6
        ],
        [
         9.425568693185481E-6
        ],
        [
         1.532371321450265E-5
        ],
        [
         9.95634480695217E-6
        ],
        [
         1.0126791124650092E-5
        ],
        [
         1.188891249335117E-5
        ],
        [
         1.1495576545030102E-5
        ],
        [
         1.4079178995467996E-5
        ],
        [
         1.4378499485733876E-5
        ],
        [
         1.5480046038827435E-5
        ],
        [
         1.2621375754946779E-5
        ],
        [
         9.264110795419602E-6
        ],
        [
         5.657881658523905E-6
        ],
        [
         8.18191974138892E-6
        ],
        [
         1.0082633340162534E-5
        ],
        [
         7.776266042371899E-6
        ],
        [
         8.32391190618696E-6
        ],
        [
         1.3725633970852759E-5
        ],
        [
         1.0099938478897456E-5
        ],
        [
         1.3963272870072558E-5
        ],
        [
         1.0006892812640844E-5
        ],
        [
         1.3634883072690413E-5
        ],
        [
         1.470841675478792E-5
        ],
        [
         1.4830055592925256E-5
        ],
        [
         1.5454733374766936E-5
        ],
        [
         8.324820222972372E-6
        ],
        [
         8.779961982474848E-6
        ],
        [
         1.307923426903597E-5
        ],
        [
         1.1341592385556729E-5
        ],
        [
         1.294893052383918E-5
        ],
        [
         1.9014655408489275E-5
        ],
        [
         1.3037440940098245E-5
        ],
        [
         8.76179450072359E-6
        ],
        [
         4.488292502418387E-6
        ],
        [
         1.0550175561508345E-5
        ],
        [
         1.044945937525399E-5
        ],
        [
         1.0032609410181423E-5
        ],
        [
         1.3726190901618839E-5
        ],
        [
         1.304695849159442E-5
        ],
        [
         1.6351477766419627E-5
        ],
        [
         1.3388214904679375E-5
        ],
        [
         1.2699692667116369E-5
        ],
        [
         1.2838341693568413E-5
        ],
        [
         1.15233280080471E-5
        ],
        [
         1.0125461000299646E-5
        ],
        [
         1.0443143211489991E-5
        ],
        [
         1.1372822850330048E-5
        ],
        [
         1.0282119979998947E-5
        ],
        [
         9.679158165183607E-6
        ],
        [
         1.4425492103647762E-5
        ],
        [
         1.1158098028461737E-5
        ],
        [
         1.538079753017789E-5
        ],
        [
         1.1163438482633854E-5
        ],
        [
         1.6915845792256968E-5
        ],
        [
         1.2037739076637537E-5
        ],
        [
         1.3482139609383074E-5
        ],
        [
         1.8049453939045427E-5
        ],
        [
         1.4608908318807255E-5
        ],
        [
         8.333419942283851E-6
        ],
        [
         1.700917924910024E-5
        ],
        [
         1.3078194283096358E-5
        ],
        [
         1.563946704590035E-5
        ],
        [
         1.4192171174377225E-5
        ],
        [
         1.7196688521019386E-5
        ],
        [
         1.3901647307098903E-5
        ],
        [
         1.2832308829811705E-5
        ],
        [
         1.635273658880637E-5
        ],
        [
         1.6191487419328485E-5
        ],
        [
         1.3205440681356044E-5
        ],
        [
         1.81886937690492E-5
        ],
        [
         1.4095180892605604E-5
        ],
        [
         5.940563831909051E-6
        ],
        [
         1.068223818990033E-5
        ],
        [
         1.2579713437607032E-5
        ],
        [
         1.026934029878844E-5
        ],
        [
         1.3316736908539471E-5
        ],
        [
         1.4478325991189429E-5
        ],
        [
         2.045307268603521E-5
        ],
        [
         1.4115215237953375E-5
        ],
        [
         1.5076734102324843E-5
        ],
        [
         1.903084850755589E-5
        ],
        [
         1.2877212647532187E-5
        ],
        [
         1.756332019861516E-5
        ],
        [
         1.067012323943662E-5
        ],
        [
         1.2467943515217987E-5
        ],
        [
         1.649133310617999E-5
        ],
        [
         1.852276158418678E-5
        ],
        [
         1.4016872521450717E-5
        ],
        [
         2.2860029711501324E-5
        ],
        [
         1.719355588914032E-5
        ],
        [
         1.4276880785518871E-5
        ],
        [
         1.5208271002710026E-5
        ],
        [
         1.962099430710442E-5
        ],
        [
         1.1524708596925523E-5
        ],
        [
         1.1268859168929042E-5
        ],
        [
         1.451487051167393E-5
        ],
        [
         6.722444156142163E-6
        ],
        [
         1.7795379387917703E-5
        ],
        [
         1.3483006740618862E-5
        ],
        [
         1.756287249316845E-5
        ],
        [
         1.0922985943572038E-5
        ],
        [
         5.3994038307260335E-6
        ],
        [
         1.1375454928011063E-5
        ],
        [
         1.141948641078053E-5
        ],
        [
         1.738114912521755E-5
        ],
        [
         2.6461378914405013E-5
        ],
        [
         1.5157119928400954E-5
        ],
        [
         9.670247220651969E-6
        ],
        [
         1.2392429929007547E-5
        ],
        [
         1.4438343415542112E-5
        ],
        [
         1.692578361737218E-5
        ],
        [
         1.601733396918866E-5
        ],
        [
         1.6519573106573045E-5
        ],
        [
         2.0689007840610066E-5
        ],
        [
         1.6640391119365915E-5
        ],
        [
         1.569210062483463E-5
        ],
        [
         2.2243754049051366E-5
        ],
        [
         1.7541978235079394E-5
        ],
        [
         1.9292491300102646E-5
        ],
        [
         1.0623521574920797E-5
        ],
        [
         1.9339479536014588E-5
        ],
        [
         1.3780649376576709E-5
        ],
        [
         1.2077540637165329E-5
        ],
        [
         7.609349115984445E-6
        ],
        [
         7.708999543170397E-6
        ],
        [
         8.98357190627318E-6
        ],
        [
         1.3629884119138854E-5
        ],
        [
         6.949025699675801E-6
        ],
        [
         9.362554947824772E-6
        ],
        [
         1.0612852603206128E-5
        ],
        [
         1.4957068830934892E-5
        ],
        [
         1.580039776337527E-5
        ],
        [
         1.895015579654804E-5
        ],
        [
         1.1241710202293364E-5
        ],
        [
         1.2129459120316804E-5
        ],
        [
         1.075230126607804E-5
        ],
        [
         1.859700674851209E-5
        ],
        [
         1.484577784821411E-5
        ],
        [
         1.5321642814854132E-5
        ],
        [
         1.4429913698057256E-5
        ],
        [
         1.8415582435110445E-5
        ],
        [
         2.2400989214992928E-5
        ],
        [
         1.80326320774823E-5
        ],
        [
         2.3703287401574802E-5
        ],
        [
         2.5973937818517634E-5
        ],
        [
         1.4935537250270644E-5
        ],
        [
         1.675492057188245E-5
        ],
        [
         1.6208009937571665E-5
        ],
        [
         1.4501258542680272E-5
        ],
        [
         9.91226542375475E-6
        ],
        [
         1.3019245988314333E-5
        ],
        [
         1.3671875E-5
        ],
        [
         1.1509459616849082E-5
        ],
        [
         1.5432136555427695E-5
        ],
        [
         1.3454700387452896E-5
        ],
        [
         2.0245431239162334E-5
        ],
        [
         1.863243703613578E-5
        ],
        [
         1.803963222458127E-5
        ],
        [
         1.6116337731759157E-5
        ],
        [
         5.784516080609449E-6
        ],
        [
         1.726919383467769E-5
        ],
        [
         1.1362552325581395E-5
        ],
        [
         9.165816754795721E-6
        ],
        [
         1.552332084214768E-5
        ],
        [
         2.0402888432945188E-5
        ],
        [
         1.5375153751537514E-5
        ],
        [
         1.3601148970872409E-5
        ],
        [
         1.17794910266824E-5
        ],
        [
         1.5628302852962692E-5
        ],
        [
         1.331340154990807E-5
        ],
        [
         1.4350700407020647E-5
        ],
        [
         1.100440544483633E-5
        ],
        [
         9.681636836846714E-6
        ],
        [
         1.1145673081001597E-5
        ],
        [
         7.875570847390355E-6
        ],
        [
         9.581524898795297E-6
        ],
        [
         9.95177848653985E-6
        ],
        [
         3.6893868751098175E-6
        ],
        [
         5.162895738363096E-6
        ],
        [
         6.499568149498791E-6
        ],
        [
         1.0683596943485732E-5
        ],
        [
         9.181054375459353E-6
        ],
        [
         1.2932722180983872E-5
        ],
        [
         1.2038447959039438E-5
        ],
        [
         1.70774176265738E-5
        ],
        [
         1.874178385353265E-5
        ],
        [
         1.5422926138645675E-5
        ],
        [
         1.3306248415716097E-5
        ],
        [
         1.572120474509482E-5
        ],
        [
         1.0223625556421467E-5
        ],
        [
         1.1078556074495242E-5
        ],
        [
         1.1205086677576793E-5
        ],
        [
         1.378793806619902E-5
        ],
        [
         1.691512148683442E-5
        ],
        [
         8.325262348928285E-6
        ],
        [
         6.339147739409043E-6
        ],
        [
         1.417606704269599E-5
        ],
        [
         1.1697491165037107E-5
        ],
        [
         3.641002174256106E-6
        ],
        [
         7.81734783671474E-6
        ],
        [
         1.0473640878724948E-5
        ],
        [
         1.3765500623318682E-5
        ],
        [
         7.025545866216017E-6
        ],
        [
         1.0916840656879185E-5
        ],
        [
         1.2848893467276228E-5
        ],
        [
         1.0707272966043399E-5
        ],
        [
         1.2809527675829525E-5
        ],
        [
         2.1586182662067566E-5
        ],
        [
         1.126384113750863E-5
        ],
        [
         9.525320263868984E-6
        ],
        [
         1.2813501766105552E-5
        ],
        [
         1.3491677517531337E-5
        ],
        [
         1.2290259947257077E-5
        ],
        [
         1.2910001369842162E-5
        ],
        [
         1.351260740504309E-5
        ],
        [
         1.269446439339122E-5
        ],
        [
         1.208988155328668E-5
        ],
        [
         1.051937058061946E-5
        ],
        [
         1.166925220686152E-5
        ],
        [
         1.3406777308197602E-5
        ],
        [
         1.1396456019576734E-5
        ],
        [
         1.268784851678964E-5
        ],
        [
         9.941127817809597E-6
        ],
        [
         7.153983494630784E-6
        ],
        [
         1.888194457799729E-5
        ],
        [
         1.5682743579584336E-5
        ],
        [
         3.4942611766594426E-5
        ],
        [
         2.6818083587234173E-5
        ],
        [
         2.4148546705125357E-5
        ],
        [
         2.6682794450909538E-5
        ],
        [
         2.1062774485715665E-5
        ],
        [
         1.9263405970944953E-5
        ],
        [
         1.2368534173950421E-5
        ],
        [
         1.057269259363079E-5
        ],
        [
         1.043490539395651E-5
        ],
        [
         7.131732790083061E-6
        ],
        [
         1.060604271047228E-5
        ],
        [
         1.2249575856222447E-5
        ],
        [
         1.1073106726391898E-5
        ],
        [
         7.5364389218090185E-6
        ],
        [
         9.325698152496096E-6
        ],
        [
         1.0400884657921963E-5
        ],
        [
         1.1167564019304478E-5
        ],
        [
         1.0632753921064866E-5
        ],
        [
         1.2409107779555855E-5
        ],
        [
         1.1797827328240239E-5
        ],
        [
         1.910557867443804E-5
        ],
        [
         1.469313163358525E-5
        ],
        [
         1.4861542076539549E-5
        ],
        [
         1.344821257742074E-5
        ],
        [
         8.497889243399934E-6
        ],
        [
         1.2396062333987758E-5
        ],
        [
         1.0446067362829722E-5
        ],
        [
         9.744410846030697E-6
        ],
        [
         1.7160367918598255E-5
        ],
        [
         1.5665052691540872E-5
        ],
        [
         1.5979986437447307E-5
        ],
        [
         1.5249211283822683E-5
        ],
        [
         1.4884420734311731E-5
        ],
        [
         1.2487034689408783E-5
        ],
        [
         1.5393961765231373E-5
        ],
        [
         1.6899276812391885E-5
        ],
        [
         1.4305369569181296E-5
        ],
        [
         4.547697352897012E-6
        ],
        [
         6.096644388890495E-6
        ],
        [
         1.26084632414121E-5
        ],
        [
         1.6318756373011138E-5
        ],
        [
         1.2443452352975735E-5
        ],
        [
         1.4242285457108404E-5
        ],
        [
         1.4319257494810631E-5
        ],
        [
         1.3857955951497153E-5
        ],
        [
         1.2973625557206537E-5
        ],
        [
         1.3389868531153449E-5
        ],
        [
         1.3984160566902876E-5
        ],
        [
         1.4500086895829697E-5
        ],
        [
         1.7840093331906238E-5
        ],
        [
         1.3072206113038932E-5
        ],
        [
         1.3304874450161502E-5
        ],
        [
         1.5714340962149335E-5
        ],
        [
         1.7271429171391375E-5
        ],
        [
         1.2788575570247427E-5
        ],
        [
         1.728654768846314E-5
        ],
        [
         8.091842708465417E-6
        ],
        [
         1.1429522383507328E-5
        ],
        [
         6.751958949641335E-6
        ],
        [
         1.289638347910294E-5
        ],
        [
         1.5620159914911086E-5
        ],
        [
         1.2526520110143095E-5
        ],
        [
         9.956212260499322E-6
        ],
        [
         1.437366635183825E-5
        ],
        [
         1.4521985197397267E-5
        ],
        [
         1.4861213200422357E-5
        ],
        [
         9.905257081632899E-6
        ],
        [
         1.4031092016494986E-5
        ],
        [
         1.27462507248421E-5
        ],
        [
         1.2305293743661163E-5
        ],
        [
         1.2133479170089772E-5
        ],
        [
         2.074370450606586E-5
        ],
        [
         1.4780212762075069E-5
        ],
        [
         1.7223983738106895E-5
        ],
        [
         1.4538025923314714E-5
        ],
        [
         1.3060448196890522E-5
        ],
        [
         9.967436338910307E-6
        ],
        [
         6.69469178198058E-6
        ],
        [
         8.90976106514761E-6
        ],
        [
         1.2715718202638625E-5
        ],
        [
         1.035458925303172E-5
        ],
        [
         1.0649493365823616E-5
        ],
        [
         1.1783977401788056E-5
        ],
        [
         1.2381779435021241E-5
        ],
        [
         1.6233992320104578E-5
        ],
        [
         1.108406969219515E-5
        ],
        [
         8.922339158016803E-6
        ],
        [
         1.5752945576734603E-5
        ],
        [
         1.1927967822227555E-5
        ],
        [
         1.3493527683847389E-5
        ],
        [
         1.4255214868341818E-5
        ],
        [
         1.4145644896264062E-5
        ],
        [
         1.4820286494371096E-5
        ],
        [
         2.0991214985713903E-5
        ],
        [
         9.40703077287253E-6
        ],
        [
         9.432147437419846E-6
        ],
        [
         1.276619834041036E-5
        ],
        [
         1.197636462552137E-5
        ],
        [
         9.630977434550559E-6
        ],
        [
         3.4890866305112515E-6
        ],
        [
         7.2567563721909715E-6
        ],
        [
         1.1311091737959208E-5
        ],
        [
         1.1207629787234043E-5
        ],
        [
         7.171635204660664E-6
        ],
        [
         1.0807059008744687E-5
        ],
        [
         1.4955726594368719E-5
        ],
        [
         1.1745697636115513E-5
        ],
        [
         1.32979103790294E-5
        ],
        [
         1.29359412190831E-5
        ],
        [
         1.2391859108511163E-5
        ],
        [
         8.347063610455536E-6
        ],
        [
         6.983478951772903E-6
        ],
        [
         7.66079412071302E-6
        ],
        [
         8.739622582657517E-6
        ],
        [
         6.538098218584496E-6
        ],
        [
         9.92857115902965E-6
        ],
        [
         1.0059890431374714E-5
        ],
        [
         9.568113601522441E-6
        ],
        [
         1.1677070918334512E-5
        ],
        [
         1.2780729325549186E-5
        ],
        [
         8.772055846047322E-6
        ],
        [
         5.03206038197475E-6
        ],
        [
         1.1278218969103938E-5
        ],
        [
         9.260693726749871E-6
        ],
        [
         9.899978469421128E-6
        ],
        [
         1.3721377805486285E-5
        ],
        [
         1.0504798486473948E-5
        ],
        [
         8.79357092259215E-6
        ],
        [
         6.467854196314376E-6
        ],
        [
         6.678175683828511E-6
        ],
        [
         1.101714185937049E-5
        ],
        [
         6.898875527926732E-6
        ],
        [
         5.946237591878467E-6
        ],
        [
         9.445513541265563E-6
        ],
        [
         8.503546854275994E-6
        ],
        [
         1.3182657860305056E-5
        ],
        [
         1.218013000246528E-5
        ],
        [
         1.3426478924286905E-5
        ],
        [
         1.6182364070335252E-5
        ],
        [
         1.417130168014221E-5
        ],
        [
         1.3039115586381719E-5
        ],
        [
         1.4440774343243669E-5
        ],
        [
         1.1378491406747295E-5
        ],
        [
         1.060388416455987E-5
        ],
        [
         1.721648780831903E-5
        ],
        [
         1.2192703533800473E-5
        ],
        [
         1.1560927133083774E-5
        ],
        [
         8.42498504474937E-6
        ],
        [
         1.470332145676863E-5
        ],
        [
         1.5751981539798023E-5
        ],
        [
         9.143080318853741E-6
        ],
        [
         1.4104212362134145E-5
        ],
        [
         1.2394865495283823E-5
        ],
        [
         8.4547605498061E-6
        ],
        [
         1.152378362674121E-5
        ],
        [
         9.3401733889067E-6
        ],
        [
         1.1918406670985532E-5
        ],
        [
         1.0597142124992678E-5
        ],
        [
         8.218155948153008E-6
        ],
        [
         9.509434556479014E-6
        ],
        [
         1.2279069429175476E-5
        ],
        [
         9.498448661301351E-6
        ],
        [
         3.30752990851513E-6
        ],
        [
         4.2566373239436625E-6
        ],
        [
         7.028326588979828E-6
        ],
        [
         4.338106753881815E-6
        ],
        [
         2.974873828665983E-6
        ],
        [
         4.4395648267008985E-6
        ],
        [
         4.655988024382013E-6
        ],
        [
         4.7567707434880115E-6
        ],
        [
         4.622806613997063E-6
        ],
        [
         7.950875819551816E-6
        ],
        [
         4.8021860697780325E-6
        ],
        [
         6.82530027536628E-6
        ],
        [
         7.626880264670687E-6
        ],
        [
         6.964603245093368E-6
        ],
        [
         3.7556193100955564E-6
        ],
        [
         7.080366222184654E-6
        ],
        [
         4.45100806895792E-6
        ],
        [
         8.022425084342131E-6
        ],
        [
         9.296074000603736E-6
        ],
        [
         9.43038668959888E-6
        ],
        [
         1.1513847370853628E-5
        ],
        [
         9.153103279079223E-6
        ],
        [
         4.984788982708844E-6
        ],
        [
         8.989269060059555E-6
        ],
        [
         7.251613489682756E-6
        ],
        [
         1.0878739407140182E-5
        ],
        [
         9.197550386705385E-6
        ],
        [
         8.999022616222253E-6
        ],
        [
         6.807246976922422E-6
        ],
        [
         8.382089370557977E-6
        ],
        [
         8.138660767996792E-6
        ],
        [
         8.28612284999745E-6
        ],
        [
         9.172784161490683E-6
        ],
        [
         1.046299350824564E-5
        ],
        [
         8.899053691184606E-6
        ],
        [
         9.299327494394618E-6
        ],
        [
         1.1212653443802828E-5
        ],
        [
         9.923008143322476E-6
        ],
        [
         1.187122379914598E-5
        ],
        [
         7.556669601733948E-6
        ],
        [
         8.399455240605156E-7
        ],
        [
         1.3073605456884344E-6
        ],
        [
         2.2710354990055392E-6
        ],
        [
         3.3303754394635454E-6
        ],
        [
         5.748134292005222E-6
        ],
        [
         4.500823397572727E-6
        ],
        [
         4.110086643589129E-6
        ],
        [
         4.545803030535404E-6
        ],
        [
         5.3921659993726825E-6
        ],
        [
         5.521624236543181E-6
        ],
        [
         4.87718328305745E-6
        ],
        [
         4.52102205281786E-6
        ],
        [
         3.6772009110752586E-6
        ],
        [
         5.374468337189342E-6
        ],
        [
         5.6885674718887446E-6
        ],
        [
         5.842986923880078E-6
        ],
        [
         6.656509226341628E-6
        ],
        [
         5.933469074799796E-6
        ],
        [
         6.964124804511634E-6
        ],
        [
         7.709884437090441E-6
        ],
        [
         6.758420695289934E-6
        ],
        [
         6.048264670470607E-6
        ],
        [
         4.559365316542681E-6
        ],
        [
         4.3560832782848904E-6
        ],
        [
         2.46765516039758E-6
        ],
        [
         4.104801145338325E-6
        ],
        [
         5.3051591288334E-6
        ],
        [
         4.9688387451398824E-6
        ],
        [
         5.7426493334593926E-6
        ],
        [
         4.8514921430234705E-6
        ],
        [
         7.763228434055395E-6
        ],
        [
         1.1363253197026718E-5
        ],
        [
         4.019380897568027E-6
        ],
        [
         4.858203472603469E-6
        ],
        [
         4.363762226850864E-6
        ],
        [
         3.765439501139225E-6
        ],
        [
         5.735340431036961E-6
        ],
        [
         5.2371959054493394E-6
        ],
        [
         5.828900901942645E-6
        ],
        [
         6.692497077390694E-6
        ],
        [
         5.290916775261509E-6
        ],
        [
         6.108773627501283E-6
        ],
        [
         4.161130128262501E-6
        ],
        [
         4.162732460281621E-6
        ],
        [
         6.0890519552231315E-6
        ],
        [
         4.649316975054138E-6
        ],
        [
         3.6538782163661753E-6
        ],
        [
         6.176973925664818E-6
        ],
        [
         6.550619017299246E-6
        ],
        [
         8.127875608393841E-6
        ],
        [
         2.4609311261478974E-5
        ],
        [
         1.1245550473098844E-5
        ],
        [
         7.832716018062814E-6
        ],
        [
         1.0822677243864468E-5
        ],
        [
         9.415569709081479E-6
        ],
        [
         5.1287827377973505E-6
        ],
        [
         4.731352168692781E-6
        ],
        [
         3.860642635499801E-6
        ],
        [
         2.4680288687097992E-6
        ],
        [
         3.6813581796385617E-6
        ],
        [
         5.094912279315304E-6
        ],
        [
         5.307521626120253E-6
        ],
        [
         4.643114740960388E-6
        ],
        [
         4.918476292820199E-6
        ],
        [
         4.13629177177893E-6
        ],
        [
         4.811781125251891E-6
        ],
        [
         3.5885568049006567E-6
        ],
        [
         5.1938921516725666E-6
        ],
        [
         6.877955748844795E-6
        ],
        [
         4.9768392158086E-6
        ],
        [
         6.828581218489175E-6
        ],
        [
         6.3812498164338235E-6
        ],
        [
         5.719833840206414E-6
        ],
        [
         4.047058476437275E-6
        ],
        [
         4.612177833301649E-6
        ],
        [
         4.9934119933166E-6
        ],
        [
         5.480853551593101E-6
        ],
        [
         5.185687580843736E-6
        ],
        [
         4.756806184622971E-6
        ],
        [
         3.237143118841474E-6
        ],
        [
         4.535458941157187E-6
        ],
        [
         6.858372488232931E-6
        ],
        [
         5.8784093611163255E-6
        ],
        [
         6.833066886700015E-6
        ],
        [
         5.880023150389508E-6
        ],
        [
         5.3602324832819656E-6
        ],
        [
         2.3223132434234585E-6
        ],
        [
         4.161981005378383E-6
        ],
        [
         6.247107288921633E-6
        ],
        [
         5.825752099370189E-6
        ],
        [
         6.542483092350746E-6
        ],
        [
         7.110725788776054E-6
        ],
        [
         6.208861465910435E-6
        ],
        [
         7.164105316098103E-6
        ],
        [
         6.413538424660818E-6
        ],
        [
         7.273937112682204E-6
        ],
        [
         5.588006634703042E-6
        ],
        [
         6.720942909944559E-6
        ],
        [
         5.339404852870085E-6
        ],
        [
         6.800822515122319E-6
        ],
        [
         8.689039719865044E-6
        ],
        [
         6.653758238964189E-6
        ],
        [
         8.194526770314443E-6
        ],
        [
         1.008119150837989E-5
        ],
        [
         9.032760839974098E-6
        ],
        [
         8.315891457775614E-6
        ],
        [
         5.821880031423962E-6
        ],
        [
         2.938267402637228E-6
        ],
        [
         7.262260986851888E-6
        ],
        [
         9.139663317586002E-6
        ],
        [
         1.114456812751612E-5
        ],
        [
         1.0791949022158073E-5
        ],
        [
         1.2238779691264388E-5
        ],
        [
         1.050839608688954E-5
        ],
        [
         9.57203301657765E-6
        ],
        [
         1.1011379326808308E-5
        ],
        [
         1.0481036744214225E-5
        ],
        [
         1.0166486355775713E-5
        ],
        [
         1.198304204879737E-5
        ],
        [
         1.2877841012922593E-5
        ],
        [
         1.1280582603714918E-5
        ],
        [
         1.0495702731737263E-5
        ],
        [
         8.69250171637806E-6
        ],
        [
         8.904145398598506E-6
        ],
        [
         1.1084675619141905E-5
        ],
        [
         9.92389359476E-6
        ],
        [
         9.15155962818907E-6
        ],
        [
         1.0565136863106665E-5
        ],
        [
         8.546967095153304E-6
        ],
        [
         1.2931177459584295E-5
        ],
        [
         1.0529497098646036E-5
        ],
        [
         1.1092339946259917E-5
        ],
        [
         1.1787252806892574E-5
        ],
        [
         1.0512303561759221E-5
        ],
        [
         1.3556621724010647E-5
        ],
        [
         1.4574306139965249E-5
        ],
        [
         5.688073394495412E-6
        ],
        [
         8.896539548208208E-6
        ],
        [
         1.1427894220025056E-5
        ],
        [
         1.1193299278547143E-5
        ],
        [
         8.311704362872328E-6
        ],
        [
         6.9734182620599475E-6
        ],
        [
         7.982717358656224E-6
        ],
        [
         1.0796669790251292E-5
        ],
        [
         4.624079465661928E-6
        ],
        [
         7.03309414171081E-6
        ],
        [
         4.8418665376472384E-6
        ],
        [
         6.516529297373745E-6
        ],
        [
         7.1622334021420775E-6
        ],
        [
         2.865756900417417E-6
        ],
        [
         1.9765257849227547E-6
        ],
        [
         4.188312791850286E-6
        ],
        [
         6.936770827145091E-6
        ],
        [
         7.976891481649299E-6
        ],
        [
         9.774363633860599E-6
        ],
        [
         8.21035404133933E-6
        ],
        [
         1.2301311688762407E-5
        ],
        [
         8.462253581559439E-6
        ],
        [
         9.820106080959437E-6
        ],
        [
         1.0908476347043188E-5
        ],
        [
         1.116506427179584E-5
        ],
        [
         7.934132069194943E-6
        ],
        [
         9.684384659260667E-6
        ],
        [
         1.1638702883205733E-5
        ],
        [
         1.1794262837938022E-5
        ],
        [
         9.50688340389275E-6
        ],
        [
         9.001466943193891E-6
        ],
        [
         7.849863010676786E-6
        ],
        [
         8.932269053261819E-6
        ],
        [
         1.065740007755175E-5
        ],
        [
         3.948657921403376E-6
        ],
        [
         1.0049702345117256E-5
        ],
        [
         1.0744891382513333E-5
        ],
        [
         8.542713567839196E-6
        ],
        [
         1.0364121259074345E-5
        ],
        [
         4.809396642945953E-6
        ],
        [
         6.349416724171488E-6
        ],
        [
         8.394851539503808E-6
        ],
        [
         1.033401257359545E-5
        ],
        [
         8.399513633859715E-6
        ],
        [
         9.57872938157826E-6
        ],
        [
         6.849264369313213E-6
        ],
        [
         6.687336997297224E-6
        ],
        [
         9.486962324196696E-6
        ],
        [
         8.090845129059117E-6
        ],
        [
         8.224466322275195E-6
        ],
        [
         5.9646315082678055E-6
        ],
        [
         1.1506484919518675E-5
        ],
        [
         1.1150397357968224E-5
        ],
        [
         1.2345699939947955E-5
        ],
        [
         1.3592802301504408E-5
        ],
        [
         1.5414434672057688E-5
        ],
        [
         1.4030670390003785E-5
        ],
        [
         1.6771785332088618E-5
        ],
        [
         1.7122273085298616E-5
        ],
        [
         1.5595691170257708E-5
        ],
        [
         1.4113141398167025E-5
        ],
        [
         1.2776268194326657E-5
        ],
        [
         1.5928050052137643E-5
        ],
        [
         1.1622925327663356E-5
        ],
        [
         1.2608206325403858E-5
        ],
        [
         1.1318727027068523E-5
        ],
        [
         1.1175226016656263E-5
        ],
        [
         1.4861776375659771E-5
        ],
        [
         1.3655500424714702E-5
        ],
        [
         1.1261631089217295E-5
        ],
        [
         1.1493644425084398E-5
        ],
        [
         9.253257081827553E-6
        ],
        [
         1.1891325215013594E-5
        ],
        [
         7.41630175501791E-6
        ],
        [
         7.680493353120038E-6
        ],
        [
         7.508731473989327E-6
        ],
        [
         5.0859981315317954E-6
        ],
        [
         2.7995071169805986E-6
        ],
        [
         4.840874797998228E-6
        ],
        [
         7.092638647802097E-6
        ],
        [
         7.780522605788273E-6
        ],
        [
         7.238301809824192E-6
        ],
        [
         6.903045595480397E-6
        ],
        [
         7.141505404193854E-6
        ],
        [
         9.59547997482626E-6
        ],
        [
         1.242769595788161E-5
        ],
        [
         1.1350529025920528E-5
        ],
        [
         6.194840835274712E-6
        ],
        [
         9.054918655433076E-6
        ],
        [
         7.635645759541943E-6
        ],
        [
         7.594897539066155E-6
        ],
        [
         7.485612553306007E-6
        ],
        [
         5.874669503639321E-6
        ],
        [
         6.649484351988218E-6
        ],
        [
         9.577911799571118E-6
        ],
        [
         1.0323042475467372E-5
        ],
        [
         9.945720434234332E-6
        ],
        [
         5.2354742854682575E-6
        ],
        [
         1.0529282153539382E-5
        ],
        [
         1.2274558082089806E-5
        ],
        [
         1.0865950808130739E-5
        ],
        [
         1.235375278870553E-5
        ],
        [
         9.455069513019075E-6
        ],
        [
         1.215895943651554E-5
        ],
        [
         1.1425824033793581E-5
        ],
        [
         1.1692994227877572E-5
        ],
        [
         8.967336809723888E-6
        ],
        [
         7.258629916053933E-6
        ],
        [
         1.231712139576967E-5
        ],
        [
         1.1046839084834E-5
        ],
        [
         1.1179691386671617E-5
        ],
        [
         3.5638452932079584E-6
        ],
        [
         5.490050498664433E-6
        ],
        [
         7.672110609229673E-6
        ],
        [
         7.910143630332305E-6
        ],
        [
         7.595602581453354E-6
        ],
        [
         7.455024146707564E-6
        ],
        [
         1.0724750311720697E-5
        ],
        [
         9.161395628152774E-6
        ],
        [
         8.778650622955827E-6
        ],
        [
         9.734251821487232E-6
        ],
        [
         1.0975532570702254E-5
        ],
        [
         8.748692986258063E-6
        ],
        [
         9.683679016137137E-6
        ],
        [
         9.157634376187793E-6
        ],
        [
         1.3822393426393425E-5
        ],
        [
         9.815469179426777E-6
        ],
        [
         1.0097944598656676E-5
        ],
        [
         1.0982939114102364E-5
        ],
        [
         7.926594483289208E-6
        ],
        [
         9.152028174172368E-6
        ],
        [
         1.0299975308279074E-5
        ],
        [
         9.630823315569877E-6
        ],
        [
         7.159111466469852E-6
        ],
        [
         9.190033327647515E-6
        ],
        [
         4.261152000953544E-6
        ],
        [
         5.0337606222898755E-6
        ],
        [
         8.667420445287517E-6
        ],
        [
         5.520417882717244E-6
        ],
        [
         7.343883147731129E-6
        ],
        [
         6.4382972374111E-6
        ],
        [
         2.9658322205773817E-6
        ],
        [
         6.232432175154689E-6
        ],
        [
         8.305409526089038E-6
        ],
        [
         6.411143299344502E-6
        ],
        [
         9.581153820162457E-6
        ],
        [
         1.6920933780464766E-5
        ],
        [
         1.0074374154834348E-5
        ],
        [
         9.820659224908005E-6
        ],
        [
         7.63019954750646E-6
        ],
        [
         1.0325849367864755E-5
        ],
        [
         1.0630487099577477E-5
        ],
        [
         6.743034983235023E-6
        ],
        [
         9.04988416045256E-6
        ],
        [
         1.014182796933766E-5
        ],
        [
         1.0359136495134567E-5
        ],
        [
         6.547547110173195E-6
        ],
        [
         7.901718276989466E-6
        ],
        [
         8.127145203938116E-6
        ],
        [
         8.360440514914527E-6
        ],
        [
         1.0061236635231142E-5
        ],
        [
         4.014614845781404E-6
        ],
        [
         1.218311174502912E-5
        ],
        [
         1.1776166074556737E-5
        ],
        [
         1.4114879435404822E-5
        ],
        [
         5.884296263257013E-6
        ],
        [
         1.4519452944482608E-5
        ],
        [
         1.5740469373492346E-5
        ],
        [
         1.435691285353898E-5
        ],
        [
         1.6173459194118743E-5
        ],
        [
         1.0077654401625664E-5
        ]
       ],
       "datasetInfos": [],
       "dbfsResultPath": null,
       "isJsonSchema": true,
       "metadata": {},
       "overflow": false,
       "plotOptions": {
        "customPlotOptions": {},
        "displayType": "table",
        "pivotAggregation": null,
        "pivotColumns": null,
        "xColumns": null,
        "yColumns": null
       },
       "removedWidgets": [],
       "schema": [
        {
         "metadata": "{}",
         "name": "HV Ratio",
         "type": "\"double\""
        }
       ],
       "type": "table"
      }
     },
     "output_type": "display_data"
    }
   ],
   "source": [
    "stocks = stocks.withColumn(\"HV Ratio\", col(\"High\") / col(\"Volume\"))\n",
    "display(stocks.select('HV Ratio'))"
   ]
  },
  {
   "cell_type": "markdown",
   "metadata": {
    "application/vnd.databricks.v1+cell": {
     "cellMetadata": {},
     "inputWidgets": {},
     "nuid": "65687d07-f503-475a-828a-8974265a168b",
     "showTitle": false,
     "tableResultSettingsMap": {},
     "title": ""
    }
   },
   "source": [
    "#### What day had the Peak High in Price?"
   ]
  },
  {
   "cell_type": "code",
   "execution_count": 0,
   "metadata": {
    "application/vnd.databricks.v1+cell": {
     "cellMetadata": {
      "byteLimit": 2048000,
      "rowLimit": 10000
     },
     "inputWidgets": {},
     "nuid": "18b6b878-41f5-4304-8629-fdd50e45bd95",
     "showTitle": false,
     "tableResultSettingsMap": {},
     "title": ""
    },
    "collapsed": false
   },
   "outputs": [
    {
     "output_type": "display_data",
     "data": {
      "text/html": [
       "<style scoped>\n",
       "  .table-result-container {\n",
       "    max-height: 300px;\n",
       "    overflow: auto;\n",
       "  }\n",
       "  table, th, td {\n",
       "    border: 1px solid black;\n",
       "    border-collapse: collapse;\n",
       "  }\n",
       "  th, td {\n",
       "    padding: 5px;\n",
       "  }\n",
       "  th {\n",
       "    text-align: left;\n",
       "  }\n",
       "</style><div class='table-result-container'><table class='table-result'><thead style='background-color: white'><tr><th>Date</th></tr></thead><tbody><tr><td>2015-01-13</td></tr></tbody></table></div>"
      ]
     },
     "metadata": {
      "application/vnd.databricks.v1+output": {
       "addedWidgets": {},
       "aggData": [],
       "aggError": "",
       "aggOverflow": false,
       "aggSchema": [],
       "aggSeriesLimitReached": false,
       "aggType": "",
       "arguments": {},
       "columnCustomDisplayInfos": {},
       "data": [
        [
         "2015-01-13"
        ]
       ],
       "datasetInfos": [],
       "dbfsResultPath": null,
       "isJsonSchema": true,
       "metadata": {},
       "overflow": false,
       "plotOptions": {
        "customPlotOptions": {},
        "displayType": "table",
        "pivotAggregation": null,
        "pivotColumns": null,
        "xColumns": null,
        "yColumns": null
       },
       "removedWidgets": [],
       "schema": [
        {
         "metadata": "{\"__detected_date_formats\":\"yyyy-M-d\"}",
         "name": "Date",
         "type": "\"date\""
        }
       ],
       "type": "table"
      }
     },
     "output_type": "display_data"
    }
   ],
   "source": [
    "display(stocks.select('Date').orderBy(desc('High')).limit(1))"
   ]
  },
  {
   "cell_type": "markdown",
   "metadata": {
    "application/vnd.databricks.v1+cell": {
     "cellMetadata": {},
     "inputWidgets": {},
     "nuid": "37b7dd08-87ac-4e85-8d6e-90f0463e3f6a",
     "showTitle": false,
     "tableResultSettingsMap": {},
     "title": ""
    }
   },
   "source": [
    "#### What is the mean of the Close column?"
   ]
  },
  {
   "cell_type": "code",
   "execution_count": 0,
   "metadata": {
    "application/vnd.databricks.v1+cell": {
     "cellMetadata": {
      "byteLimit": 2048000,
      "rowLimit": 10000
     },
     "inputWidgets": {},
     "nuid": "40cacd33-4118-404f-b5e2-9f1d961183e4",
     "showTitle": false,
     "tableResultSettingsMap": {},
     "title": ""
    },
    "collapsed": false
   },
   "outputs": [
    {
     "output_type": "display_data",
     "data": {
      "text/html": [
       "<style scoped>\n",
       "  .table-result-container {\n",
       "    max-height: 300px;\n",
       "    overflow: auto;\n",
       "  }\n",
       "  table, th, td {\n",
       "    border: 1px solid black;\n",
       "    border-collapse: collapse;\n",
       "  }\n",
       "  th, td {\n",
       "    padding: 5px;\n",
       "  }\n",
       "  th {\n",
       "    text-align: left;\n",
       "  }\n",
       "</style><div class='table-result-container'><table class='table-result'><thead style='background-color: white'><tr><th>avg(Close)</th></tr></thead><tbody><tr><td>72.38844998012726</td></tr></tbody></table></div>"
      ]
     },
     "metadata": {
      "application/vnd.databricks.v1+output": {
       "addedWidgets": {},
       "aggData": [],
       "aggError": "",
       "aggOverflow": false,
       "aggSchema": [],
       "aggSeriesLimitReached": false,
       "aggType": "",
       "arguments": {},
       "columnCustomDisplayInfos": {},
       "data": [
        [
         72.38844998012726
        ]
       ],
       "datasetInfos": [],
       "dbfsResultPath": null,
       "isJsonSchema": true,
       "metadata": {},
       "overflow": false,
       "plotOptions": {
        "customPlotOptions": {},
        "displayType": "table",
        "pivotAggregation": null,
        "pivotColumns": null,
        "xColumns": null,
        "yColumns": null
       },
       "removedWidgets": [],
       "schema": [
        {
         "metadata": "{}",
         "name": "avg(Close)",
         "type": "\"double\""
        }
       ],
       "type": "table"
      }
     },
     "output_type": "display_data"
    }
   ],
   "source": [
    "display(stocks.select('Close').agg(avg('Close')))"
   ]
  },
  {
   "cell_type": "markdown",
   "metadata": {
    "application/vnd.databricks.v1+cell": {
     "cellMetadata": {},
     "inputWidgets": {},
     "nuid": "dc49a14f-89ce-4a62-a106-f44d556f078f",
     "showTitle": false,
     "tableResultSettingsMap": {},
     "title": ""
    }
   },
   "source": [
    "#### What is the max and min of the Volume column?"
   ]
  },
  {
   "cell_type": "code",
   "execution_count": 0,
   "metadata": {
    "application/vnd.databricks.v1+cell": {
     "cellMetadata": {
      "byteLimit": 2048000,
      "rowLimit": 10000
     },
     "inputWidgets": {},
     "nuid": "f00c4210-b55d-443a-af6a-2311915eebd4",
     "showTitle": false,
     "tableResultSettingsMap": {},
     "title": ""
    },
    "collapsed": true
   },
   "outputs": [
    {
     "output_type": "display_data",
     "data": {
      "text/html": [
       "<style scoped>\n",
       "  .table-result-container {\n",
       "    max-height: 300px;\n",
       "    overflow: auto;\n",
       "  }\n",
       "  table, th, td {\n",
       "    border: 1px solid black;\n",
       "    border-collapse: collapse;\n",
       "  }\n",
       "  th, td {\n",
       "    padding: 5px;\n",
       "  }\n",
       "  th {\n",
       "    text-align: left;\n",
       "  }\n",
       "</style><div class='table-result-container'><table class='table-result'><thead style='background-color: white'><tr><th>min(Volume)</th><th>max(Volume)</th></tr></thead><tbody><tr><td>2094900</td><td>80898100</td></tr></tbody></table></div>"
      ]
     },
     "metadata": {
      "application/vnd.databricks.v1+output": {
       "addedWidgets": {},
       "aggData": [],
       "aggError": "",
       "aggOverflow": false,
       "aggSchema": [],
       "aggSeriesLimitReached": false,
       "aggType": "",
       "arguments": {},
       "columnCustomDisplayInfos": {},
       "data": [
        [
         2094900,
         80898100
        ]
       ],
       "datasetInfos": [],
       "dbfsResultPath": null,
       "isJsonSchema": true,
       "metadata": {},
       "overflow": false,
       "plotOptions": {
        "customPlotOptions": {},
        "displayType": "table",
        "pivotAggregation": null,
        "pivotColumns": null,
        "xColumns": null,
        "yColumns": null
       },
       "removedWidgets": [],
       "schema": [
        {
         "metadata": "{}",
         "name": "min(Volume)",
         "type": "\"integer\""
        },
        {
         "metadata": "{}",
         "name": "max(Volume)",
         "type": "\"integer\""
        }
       ],
       "type": "table"
      }
     },
     "output_type": "display_data"
    }
   ],
   "source": [
    "display(stocks.select('Volume').agg(min('Volume'),max('Volume')))"
   ]
  },
  {
   "cell_type": "code",
   "execution_count": 0,
   "metadata": {
    "application/vnd.databricks.v1+cell": {
     "cellMetadata": {},
     "inputWidgets": {},
     "nuid": "5e5139b5-b4d4-4092-9b87-08ece5dec596",
     "showTitle": false,
     "tableResultSettingsMap": {},
     "title": ""
    },
    "collapsed": false
   },
   "outputs": [
    {
     "output_type": "stream",
     "name": "stdout",
     "output_type": "stream",
     "text": [
      "+-----------+-----------+\n|max(Volume)|min(Volume)|\n+-----------+-----------+\n|   80898100|    2094900|\n+-----------+-----------+\n\n"
     ]
    }
   ],
   "source": [
    "df.select(max(\"Volume\"), min(\"Volume\")).show()"
   ]
  },
  {
   "cell_type": "markdown",
   "metadata": {
    "application/vnd.databricks.v1+cell": {
     "cellMetadata": {},
     "inputWidgets": {},
     "nuid": "7ff588da-9a93-428c-bab5-9f02ca6711f7",
     "showTitle": false,
     "tableResultSettingsMap": {},
     "title": ""
    }
   },
   "source": [
    "#### How many days was the Close lower than 60 dollars?"
   ]
  },
  {
   "cell_type": "code",
   "execution_count": 0,
   "metadata": {
    "application/vnd.databricks.v1+cell": {
     "cellMetadata": {
      "byteLimit": 2048000,
      "rowLimit": 10000
     },
     "inputWidgets": {},
     "nuid": "3caf89a0-e5c9-42ff-812b-0fa3458c6f22",
     "showTitle": false,
     "tableResultSettingsMap": {},
     "title": ""
    },
    "collapsed": false
   },
   "outputs": [
    {
     "output_type": "stream",
     "name": "stdout",
     "output_type": "stream",
     "text": [
      "Out[21]: 81"
     ]
    }
   ],
   "source": [
    "stocks.filter(col('Close')<60).count()"
   ]
  },
  {
   "cell_type": "markdown",
   "metadata": {
    "application/vnd.databricks.v1+cell": {
     "cellMetadata": {},
     "inputWidgets": {},
     "nuid": "77d7fdd8-dfc2-4b83-90fe-c62262d06d43",
     "showTitle": false,
     "tableResultSettingsMap": {},
     "title": ""
    }
   },
   "source": [
    "#### What percentage of the time was the High greater than 80 dollars ?\n",
    "#### In other words, (Number of Days High>80)/(Total Days in the dataset)"
   ]
  },
  {
   "cell_type": "code",
   "execution_count": 0,
   "metadata": {
    "application/vnd.databricks.v1+cell": {
     "cellMetadata": {
      "byteLimit": 2048000,
      "rowLimit": 10000
     },
     "inputWidgets": {},
     "nuid": "f2261df3-9034-418c-a942-97d82afe6fa8",
     "showTitle": false,
     "tableResultSettingsMap": {},
     "title": ""
    },
    "collapsed": false
   },
   "outputs": [
    {
     "output_type": "stream",
     "name": "stdout",
     "output_type": "stream",
     "text": [
      "Out[22]: 9.141494435612083"
     ]
    }
   ],
   "source": [
    "high_above_80_days = stocks.filter(col(\"High\") > 80).count()\n",
    "\n",
    "\n",
    "total_days = stocks.count()\n",
    "\n",
    "percentage_high_above_80 = (high_above_80_days / total_days) * 100\n",
    "\n",
    "percentage_high_above_80"
   ]
  },
  {
   "cell_type": "markdown",
   "metadata": {
    "application/vnd.databricks.v1+cell": {
     "cellMetadata": {},
     "inputWidgets": {},
     "nuid": "28d9c99d-0ebe-4573-9397-78bd85ded08d",
     "showTitle": false,
     "tableResultSettingsMap": {},
     "title": ""
    }
   },
   "source": [
    "#### What is the Pearson correlation between High and Volume?\n",
    "#### [Hint](http://spark.apache.org/docs/latest/api/python/pyspark.sql.html#pyspark.sql.DataFrameStatFunctions.corr)"
   ]
  },
  {
   "cell_type": "code",
   "execution_count": 0,
   "metadata": {
    "application/vnd.databricks.v1+cell": {
     "cellMetadata": {
      "byteLimit": 2048000,
      "rowLimit": 10000
     },
     "inputWidgets": {},
     "nuid": "37d20c7c-d87f-47bb-8c7b-24ddaa8b7633",
     "showTitle": false,
     "tableResultSettingsMap": {},
     "title": ""
    },
    "collapsed": false
   },
   "outputs": [
    {
     "output_type": "stream",
     "name": "stdout",
     "output_type": "stream",
     "text": [
      "-0.33843260617371607"
     ]
    }
   ],
   "source": [
    "correlation = stocks.stat.corr(\"High\", \"Volume\")\n",
    "display(correlation)"
   ]
  },
  {
   "cell_type": "markdown",
   "metadata": {
    "application/vnd.databricks.v1+cell": {
     "cellMetadata": {},
     "inputWidgets": {},
     "nuid": "a59ab03a-9e4d-4976-a9a9-5efc89400f22",
     "showTitle": false,
     "tableResultSettingsMap": {},
     "title": ""
    }
   },
   "source": [
    "#### What is the max High per year?"
   ]
  },
  {
   "cell_type": "code",
   "execution_count": 0,
   "metadata": {
    "application/vnd.databricks.v1+cell": {
     "cellMetadata": {
      "byteLimit": 2048000,
      "rowLimit": 10000
     },
     "inputWidgets": {},
     "nuid": "ce1e4f12-9f0c-4ffb-89cb-2624dd599696",
     "showTitle": false,
     "tableResultSettingsMap": {},
     "title": ""
    },
    "collapsed": false
   },
   "outputs": [
    {
     "output_type": "display_data",
     "data": {
      "text/html": [
       "<style scoped>\n",
       "  .table-result-container {\n",
       "    max-height: 300px;\n",
       "    overflow: auto;\n",
       "  }\n",
       "  table, th, td {\n",
       "    border: 1px solid black;\n",
       "    border-collapse: collapse;\n",
       "  }\n",
       "  th, td {\n",
       "    padding: 5px;\n",
       "  }\n",
       "  th {\n",
       "    text-align: left;\n",
       "  }\n",
       "</style><div class='table-result-container'><table class='table-result'><thead style='background-color: white'><tr><th>Year</th><th>Max_High</th></tr></thead><tbody><tr><td>2015</td><td>90.970001</td></tr><tr><td>2013</td><td>81.370003</td></tr><tr><td>2014</td><td>88.089996</td></tr><tr><td>2012</td><td>77.599998</td></tr><tr><td>2016</td><td>75.190002</td></tr></tbody></table></div>"
      ]
     },
     "metadata": {
      "application/vnd.databricks.v1+output": {
       "addedWidgets": {},
       "aggData": [],
       "aggError": "",
       "aggOverflow": false,
       "aggSchema": [],
       "aggSeriesLimitReached": false,
       "aggType": "",
       "arguments": {},
       "columnCustomDisplayInfos": {},
       "data": [
        [
         2015,
         90.970001
        ],
        [
         2013,
         81.370003
        ],
        [
         2014,
         88.089996
        ],
        [
         2012,
         77.599998
        ],
        [
         2016,
         75.190002
        ]
       ],
       "datasetInfos": [],
       "dbfsResultPath": null,
       "isJsonSchema": true,
       "metadata": {},
       "overflow": false,
       "plotOptions": {
        "customPlotOptions": {},
        "displayType": "table",
        "pivotAggregation": null,
        "pivotColumns": null,
        "xColumns": null,
        "yColumns": null
       },
       "removedWidgets": [],
       "schema": [
        {
         "metadata": "{}",
         "name": "Year",
         "type": "\"integer\""
        },
        {
         "metadata": "{}",
         "name": "Max_High",
         "type": "\"double\""
        }
       ],
       "type": "table"
      }
     },
     "output_type": "display_data"
    }
   ],
   "source": [
    "display(stocks.groupBy(year(col(\"Date\")).alias(\"Year\")).agg(max(\"High\").alias(\"Max_High\")))"
   ]
  },
  {
   "cell_type": "markdown",
   "metadata": {
    "application/vnd.databricks.v1+cell": {
     "cellMetadata": {},
     "inputWidgets": {},
     "nuid": "d874980f-4e0d-4048-948d-0e8f0cab153c",
     "showTitle": false,
     "tableResultSettingsMap": {},
     "title": ""
    }
   },
   "source": [
    "#### What is the average Close for each Calendar Month?\n",
    "#### In other words, across all the years, what is the average Close price for Jan,Feb, Mar, etc... Your result will have a value for each of these months. "
   ]
  },
  {
   "cell_type": "code",
   "execution_count": 0,
   "metadata": {
    "application/vnd.databricks.v1+cell": {
     "cellMetadata": {
      "byteLimit": 2048000,
      "rowLimit": 10000
     },
     "inputWidgets": {},
     "nuid": "47a2d41f-bf56-45e9-99a3-d49af71d58f9",
     "showTitle": false,
     "tableResultSettingsMap": {},
     "title": ""
    },
    "collapsed": false
   },
   "outputs": [
    {
     "output_type": "display_data",
     "data": {
      "text/html": [
       "<style scoped>\n",
       "  .table-result-container {\n",
       "    max-height: 300px;\n",
       "    overflow: auto;\n",
       "  }\n",
       "  table, th, td {\n",
       "    border: 1px solid black;\n",
       "    border-collapse: collapse;\n",
       "  }\n",
       "  th, td {\n",
       "    padding: 5px;\n",
       "  }\n",
       "  th {\n",
       "    text-align: left;\n",
       "  }\n",
       "</style><div class='table-result-container'><table class='table-result'><thead style='background-color: white'><tr><th>Month</th><th>Avg_Close</th></tr></thead><tbody><tr><td>1</td><td>71.44801958415842</td></tr><tr><td>2</td><td>71.306804443299</td></tr><tr><td>3</td><td>71.77794377570092</td></tr><tr><td>4</td><td>72.97361900952382</td></tr><tr><td>5</td><td>72.30971688679247</td></tr><tr><td>6</td><td>72.4953774245283</td></tr><tr><td>7</td><td>74.43971943925233</td></tr><tr><td>8</td><td>73.02981855454546</td></tr><tr><td>9</td><td>72.18411785294116</td></tr><tr><td>10</td><td>71.57854545454542</td></tr><tr><td>11</td><td>72.1110893069307</td></tr><tr><td>12</td><td>72.84792478301885</td></tr></tbody></table></div>"
      ]
     },
     "metadata": {
      "application/vnd.databricks.v1+output": {
       "addedWidgets": {},
       "aggData": [],
       "aggError": "",
       "aggOverflow": false,
       "aggSchema": [],
       "aggSeriesLimitReached": false,
       "aggType": "",
       "arguments": {},
       "columnCustomDisplayInfos": {},
       "data": [
        [
         1,
         71.44801958415842
        ],
        [
         2,
         71.306804443299
        ],
        [
         3,
         71.77794377570092
        ],
        [
         4,
         72.97361900952382
        ],
        [
         5,
         72.30971688679247
        ],
        [
         6,
         72.4953774245283
        ],
        [
         7,
         74.43971943925233
        ],
        [
         8,
         73.02981855454546
        ],
        [
         9,
         72.18411785294116
        ],
        [
         10,
         71.57854545454542
        ],
        [
         11,
         72.1110893069307
        ],
        [
         12,
         72.84792478301885
        ]
       ],
       "datasetInfos": [],
       "dbfsResultPath": null,
       "isJsonSchema": true,
       "metadata": {},
       "overflow": false,
       "plotOptions": {
        "customPlotOptions": {},
        "displayType": "table",
        "pivotAggregation": null,
        "pivotColumns": null,
        "xColumns": null,
        "yColumns": null
       },
       "removedWidgets": [],
       "schema": [
        {
         "metadata": "{}",
         "name": "Month",
         "type": "\"integer\""
        },
        {
         "metadata": "{}",
         "name": "Avg_Close",
         "type": "\"double\""
        }
       ],
       "type": "table"
      }
     },
     "output_type": "display_data"
    }
   ],
   "source": [
    "avg_close_per_month = stocks.groupBy(month(col(\"Date\")).alias(\"Month\")).agg(avg(\"Close\").alias(\"Avg_Close\"))\n",
    "avg_close_per_month = avg_close_per_month.orderBy(\"Month\")\n",
    "display(avg_close_per_month)"
   ]
  },
  {
   "cell_type": "markdown",
   "metadata": {
    "application/vnd.databricks.v1+cell": {
     "cellMetadata": {},
     "inputWidgets": {},
     "nuid": "2ca34bff-76f3-4a28-a12d-e149d678ae94",
     "showTitle": false,
     "tableResultSettingsMap": {},
     "title": ""
    }
   },
   "source": [
    "# Great Job!"
   ]
  }
 ],
 "metadata": {
  "anaconda-cloud": {},
  "application/vnd.databricks.v1+notebook": {
   "computePreferences": null,
   "dashboards": [],
   "environmentMetadata": null,
   "inputWidgetPreferences": null,
   "language": "python",
   "notebookMetadata": {
    "pythonIndentUnit": 2
   },
   "notebookName": "Walmart Stock",
   "widgets": {}
  },
  "kernelspec": {
   "display_name": "Python [conda root]",
   "language": "python",
   "name": "conda-root-py"
  },
  "language_info": {
   "codemirror_mode": {
    "name": "ipython",
    "version": 3
   },
   "file_extension": ".py",
   "mimetype": "text/x-python",
   "name": "python",
   "nbconvert_exporter": "python",
   "pygments_lexer": "ipython3",
   "version": "3.5.3"
  }
 },
 "nbformat": 4,
 "nbformat_minor": 0
}